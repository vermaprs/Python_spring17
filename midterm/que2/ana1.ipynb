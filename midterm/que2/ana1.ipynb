{
 "cells": [
  {
   "cell_type": "markdown",
   "metadata": {},
   "source": [
    "# Analysis 1 - Popularity of Donald Trump in news in last 6 months till the election month 'November 2016'"
   ]
  },
  {
   "cell_type": "markdown",
   "metadata": {},
   "source": []
  },
  {
   "cell_type": "markdown",
   "metadata": {},
   "source": [
    "# create files, fetch json data from url and load json data into files"
   ]
  },
  {
   "cell_type": "code",
   "execution_count": 67,
   "metadata": {
    "collapsed": false
   },
   "outputs": [],
   "source": [
    "import requests,json\n",
    "import os\n",
    "\n",
    "ana1Dir = '/Users/prashantverma/Documents/Python/midterm/que2/ana1/'\n",
    "\n",
    "monthData = ['October','November','June','July','August', 'September']\n",
    "months = ['6','7','8','9','10','11']\n",
    "#months = ['6','7','8']\n",
    "\n",
    "\n",
    "\n",
    "for mon in months:\n",
    "    month = str(mon) + '-2016'\n",
    "    url = 'https://api.nytimes.com/svc/archive/v1/2016/'+mon+'.json?api-key=9711fe7b1e4c4f8daab28b4eacbd5c18'\n",
    "    data = requests.get(url)\n",
    "    resp = data.json()\n",
    "    with open(ana1Dir+month+'.json','w') as jsonFile:\n",
    "        json.dump(resp,jsonFile)"
   ]
  },
  {
   "cell_type": "markdown",
   "metadata": {},
   "source": [
    "# function to count occurence of \"Trump\" in a json file"
   ]
  },
  {
   "cell_type": "code",
   "execution_count": 93,
   "metadata": {
    "collapsed": false
   },
   "outputs": [],
   "source": [
    "def getMonthFreq (file):\n",
    "    snippets = []\n",
    "    with open(file) as infile:\n",
    "        data = json.load(infile)\n",
    "        lenth = len(data['response']['docs'])\n",
    "        for i in range(lenth):\n",
    "            snippets.append(data['response']['docs'][i]['snippet'])\n",
    "    \n",
    "    \n",
    "    count = 0\n",
    "    for snippet in snippets:\n",
    "        words = str(snippet).split(' ')\n",
    "        \n",
    "        for word in words:\n",
    "            if word == \"Trump\":\n",
    "                count += 1\n",
    "    \n",
    "    return count"
   ]
  },
  {
   "cell_type": "markdown",
   "metadata": {},
   "source": [
    "# use above function to count the occurence of \"Trump\" in each json file"
   ]
  },
  {
   "cell_type": "code",
   "execution_count": 94,
   "metadata": {
    "collapsed": false,
    "scrolled": true
   },
   "outputs": [
    {
     "data": {
      "text/plain": [
       "[('October', 235),\n",
       " ('November', 294),\n",
       " ('June', 120),\n",
       " ('July', 151),\n",
       " ('August', 120),\n",
       " ('September', 162)]"
      ]
     },
     "execution_count": 94,
     "metadata": {},
     "output_type": "execute_result"
    }
   ],
   "source": [
    "import glob\n",
    "\n",
    "files = glob.glob(ana1Dir+'/*.json')\n",
    "freq = []\n",
    "for file in files:\n",
    "    freq.append(getMonthFreq(file))\n",
    "    \n",
    "freqList = zip(monthData,freq)\n",
    "freqList = list(freqList)\n",
    "freqList\n",
    "\n"
   ]
  },
  {
   "cell_type": "markdown",
   "metadata": {},
   "source": [
    "# freq of word \"Trump\" is most in October and November 2016 months, which is around the election time. So, news could have played its part in Donald Trump's election win."
   ]
  },
  {
   "cell_type": "code",
   "execution_count": 96,
   "metadata": {
    "collapsed": false
   },
   "outputs": [],
   "source": [
    "import csv\n",
    "with open('ana1/Output/Trump.csv','w') as csvfile:\n",
    "    writer = csv.writer(csvfile)\n",
    "    writer.writerow([\"Month\",\"Frequency of word 'Trump' in news\"])\n",
    "    writer.writerows(freqList)"
   ]
  },
  {
   "cell_type": "code",
   "execution_count": null,
   "metadata": {
    "collapsed": true
   },
   "outputs": [],
   "source": []
  }
 ],
 "metadata": {
  "anaconda-cloud": {},
  "kernelspec": {
   "display_name": "Python [conda root]",
   "language": "python",
   "name": "conda-root-py"
  },
  "language_info": {
   "codemirror_mode": {
    "name": "ipython",
    "version": 3
   },
   "file_extension": ".py",
   "mimetype": "text/x-python",
   "name": "python",
   "nbconvert_exporter": "python",
   "pygments_lexer": "ipython3",
   "version": "3.5.2"
  }
 },
 "nbformat": 4,
 "nbformat_minor": 1
}
