{
 "cells": [
  {
   "cell_type": "markdown",
   "metadata": {},
   "source": [
    "# Analysis 2 - Trending news words in Year '2016'"
   ]
  },
  {
   "cell_type": "code",
   "execution_count": null,
   "metadata": {
    "collapsed": true
   },
   "outputs": [],
   "source": []
  },
  {
   "cell_type": "markdown",
   "metadata": {},
   "source": [
    "# fetch json data from url, create files and load json data into files"
   ]
  },
  {
   "cell_type": "code",
   "execution_count": 1,
   "metadata": {
    "collapsed": false
   },
   "outputs": [],
   "source": [
    "import requests,json\n",
    "import os\n",
    "\n",
    "ana2Dir = '/Users/prashantverma/Documents/Python/midterm/que2/ana2/'\n",
    "\n",
    "#monthData = ['October','November','June','July','August', 'September']\n",
    "#months = ['1','2','3','4','5','6','7','8','9','10','11']\n",
    "months = ['1','2','11']\n",
    "\n",
    "\n",
    "\n",
    "for mon in months:\n",
    "    month = str(mon) + '-2016'\n",
    "    url = 'https://api.nytimes.com/svc/archive/v1/2016/'+mon+'.json?api-key=9711fe7b1e4c4f8daab28b4eacbd5c18'\n",
    "    data = requests.get(url)\n",
    "    resp = data.json()\n",
    "    with open(ana2Dir+month+'.json','w') as jsonFile:\n",
    "        json.dump(resp,jsonFile)"
   ]
  },
  {
   "cell_type": "markdown",
   "metadata": {
    "collapsed": true
   },
   "source": [
    "# fetch all words for each 'snippet' key, append to snipets list and count the frequency of each word and list the Trending words"
   ]
  },
  {
   "cell_type": "code",
   "execution_count": null,
   "metadata": {
    "collapsed": false
   },
   "outputs": [],
   "source": [
    "import glob\n",
    "\n",
    "from nltk.corpus import words\n",
    "\n",
    "files = glob.glob(ana2Dir+'/*.json')\n",
    "freq = []\n",
    "snippets = []\n",
    "allWords = {}\n",
    "\n",
    "for file in files:\n",
    "\n",
    "    with open(file) as infile:\n",
    "        data = json.load(infile)\n",
    "        lenth = len(data['response']['docs'])\n",
    "        for i in range(lenth):\n",
    "            snippets.append(data['response']['docs'][i]['snippet'])\n",
    "    \n",
    "    \n",
    "    \n",
    "for snippet in snippets:\n",
    "    snipWords = str(snippet).replace('.','')\n",
    "    snipWords = str(snipWords).split(' ')\n",
    "    \n",
    "    count=0\n",
    "    for word in snipWords:\n",
    "        if word in words.words():\n",
    "            count += 1\n",
    "            \n",
    "            \n",
    "    if allWords is None:\n",
    "        allWords[word] = count\n",
    "    elif word in allWords.keys():\n",
    "        allWords[word]+= count\n",
    "    else:\n",
    "        allWords[word] = count\n",
    "        \n",
    "        \n",
    "wordsList =[]\n",
    "\n",
    "for key,value in allWords.items():\n",
    "    wordsList.append([key,value])\n",
    "    \n",
    "wordsList[:10]"
   ]
  },
  {
   "cell_type": "markdown",
   "metadata": {
    "collapsed": true
   },
   "source": [
    "# List top 10 Trending words in 2016 based on frequency"
   ]
  },
  {
   "cell_type": "code",
   "execution_count": 19,
   "metadata": {
    "collapsed": false
   },
   "outputs": [
    {
     "data": {
      "text/plain": [
       "[['1/3', 190789],\n",
       " ['said', 4083],\n",
       " ['day', 3007],\n",
       " ['year', 2558],\n",
       " ['2016', 2208],\n",
       " ['it', 2083],\n",
       " ['years', 1824],\n",
       " ['season', 1647],\n",
       " ['them', 1622],\n",
       " ['York', 1425]]"
      ]
     },
     "execution_count": 19,
     "metadata": {},
     "output_type": "execute_result"
    }
   ],
   "source": [
    "orderedTrendingList = wordsList\n",
    "orderedTrendingList.sort(key=lambda tup: tup[1], reverse = True)\n",
    "topTrending = orderedTrendingList[:10]"
   ]
  },
  {
   "cell_type": "markdown",
   "metadata": {},
   "source": [
    "# Write output to a csv file"
   ]
  },
  {
   "cell_type": "code",
   "execution_count": null,
   "metadata": {
    "collapsed": true
   },
   "outputs": [],
   "source": [
    "import csv\n",
    "with open('ana2/Output/Trending.csv','w') as csvfile:\n",
    "    writer = csv.writer(csvfile)\n",
    "    writer.writerow([\"Word\",\"Frequency of word in '2016'\"])\n",
    "    writer.writerows(topTrending)"
   ]
  },
  {
   "cell_type": "code",
   "execution_count": null,
   "metadata": {
    "collapsed": true
   },
   "outputs": [],
   "source": []
  }
 ],
 "metadata": {
  "anaconda-cloud": {},
  "kernelspec": {
   "display_name": "Python [conda root]",
   "language": "python",
   "name": "conda-root-py"
  },
  "language_info": {
   "codemirror_mode": {
    "name": "ipython",
    "version": 3
   },
   "file_extension": ".py",
   "mimetype": "text/x-python",
   "name": "python",
   "nbconvert_exporter": "python",
   "pygments_lexer": "ipython3",
   "version": "3.5.2"
  }
 },
 "nbformat": 4,
 "nbformat_minor": 1
}
