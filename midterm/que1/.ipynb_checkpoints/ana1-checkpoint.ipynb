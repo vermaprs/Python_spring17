{
 "cells": [
  {
   "cell_type": "markdown",
   "metadata": {},
   "source": [
    "# Performing all 3 analysis for que 1 in this same notebook, all related files are in \"ana1\" folder"
   ]
  },
  {
   "cell_type": "markdown",
   "metadata": {
    "collapsed": false
   },
   "source": [
    "# Analysis 1 Start"
   ]
  },
  {
   "cell_type": "markdown",
   "metadata": {},
   "source": [
    "# getting top mail receivers and senders from Enron CEO's folder"
   ]
  },
  {
   "cell_type": "code",
   "execution_count": 12,
   "metadata": {
    "collapsed": false
   },
   "outputs": [
    {
     "name": "stdout",
     "output_type": "stream",
     "text": [
      "\n",
      "Top CEO From email adresses: \n",
      "\n",
      "[('rosalee.fleming@enron.com', 856), ('brown_mary_jo@lilly.com', 82), ('leonardo.pacheco@enron.com', 78), ('savont@email.msn.com', 66), ('tori.wells@enron.com', 58), ('elizabeth.davis@compaq.com', 50), ('no.address@enron.com', 47), ('katherine.brown@enron.com', 47), ('mrslinda@lplpi.com', 40), ('lizard_ar@yahoo.com', 36)]\n",
      "\n",
      "Top CEO To email adresses: \n",
      "\n",
      "[('kenneth.lay@enron.com', 2039), ('klay@enron.com', 1903), ('jeff.skilling@enron.com', 372), ('mark.koenig@enron.com', 313), ('mark.frevert@enron.com', 304), ('greg.whalley@enron.com', 304), ('steven.kean@enron.com', 278), ('mike.mcconnell@enron.com', 261), ('jeffrey.mcmahon@enron.com', 251), ('john.sherriff@enron.com', 244)]\n"
     ]
    }
   ],
   "source": [
    "import os\n",
    "from collections import Counter\n",
    "\n",
    "from email.parser import Parser\n",
    "CEOdir = '/Users/prashantverma/Documents/Python/midterm/data/enron/maildir/lay-k/'\n",
    "\n",
    "\n",
    "fromList = []\n",
    "toList = []\n",
    "contentMail = []\n",
    "\n",
    "for directory, subdirectory, files in  os.walk(CEOdir):\n",
    "    for file in files:\n",
    "        with open(os.path.join(directory, file), 'r',encoding='utf-8', errors='ignore') as mailFile:\n",
    "            mailData = mailFile.read()\n",
    "        \n",
    "        parseMail = Parser().parsestr(mailData)\n",
    "    \n",
    "        if parseMail['to']:\n",
    "            toMail = parseMail['to']\n",
    "            \n",
    "            toMail = toMail.replace(\"\\t\", \"\")\n",
    "            toMail = toMail.replace(\"\\n\", \"\")\n",
    "            toMail = toMail.replace(\" \", \"\")\n",
    "            toMail = toMail.split(\",\")\n",
    "\n",
    "            for mail in toMail:\n",
    "                toList.append(mail)\n",
    "\n",
    "        fromList.append(parseMail['from'])\n",
    "       \n",
    "        contentMail.append(parseMail.get_payload())\n",
    "\n",
    "\n",
    "print(\"\\nTop CEO From email adresses: \\n\")\n",
    "print(Counter(fromList).most_common(10))\n",
    "\n",
    "print(\"\\nTop CEO To email adresses: \\n\")\n",
    "print(Counter(toList).most_common(10))\n",
    "\n",
    "topFromCEO = Counter(fromList).most_common(10) # list of top 10 from mailers in CEO FOlder\n",
    "topToCEO = Counter(toList).most_common(10)"
   ]
  },
  {
   "cell_type": "code",
   "execution_count": null,
   "metadata": {
    "collapsed": true
   },
   "outputs": [],
   "source": []
  },
  {
   "cell_type": "markdown",
   "metadata": {
    "collapsed": true
   },
   "source": [
    "# getting top 10 mail senders and receivers from all mails"
   ]
  },
  {
   "cell_type": "code",
   "execution_count": 48,
   "metadata": {
    "collapsed": false
   },
   "outputs": [
    {
     "name": "stdout",
     "output_type": "stream",
     "text": [
      "\n",
      "Top 10 From email adresses: \n",
      "\n",
      "[('kay.mann@enron.com', 16735), ('vince.kaminski@enron.com', 14368), ('jeff.dasovich@enron.com', 11411), ('pete.davis@enron.com', 9149), ('chris.germany@enron.com', 8801), ('sara.shackleton@enron.com', 8777), ('enron.announcements@enron.com', 8587), ('tana.jones@enron.com', 8490), ('steven.kean@enron.com', 6759), ('kate.symes@enron.com', 5438)]\n",
      "\n",
      "Top 10 To email adresses: \n",
      "\n",
      "[('richard.shapiro@enron.com', 15149), ('jeff.dasovich@enron.com', 14207), ('tana.jones@enron.com', 12828), ('steven.kean@enron.com', 12754), ('sara.shackleton@enron.com', 11433), ('james.steffes@enron.com', 10347), ('mark.taylor@enron.com', 9787), ('pete.davis@enron.com', 9281), ('susan.mara@enron.com', 9064), ('paul.kaufman@enron.com', 8522)]\n"
     ]
    }
   ],
   "source": [
    "import os\n",
    "from collections import Counter\n",
    "\n",
    "from email.parser import Parser\n",
    "maildir = '/Users/prashantverma/Documents/Python/midterm/data/enron/maildir/'\n",
    "\n",
    "\n",
    "fromList = []\n",
    "toList = []\n",
    "contentMail = []\n",
    "\n",
    "for directory, subdirectory, files in  os.walk(maildir):\n",
    "    for file in files:\n",
    "        with open(os.path.join(directory, file), 'r',encoding='utf-8', errors='ignore') as mailFile:\n",
    "            mailData = mailFile.read()\n",
    "        \n",
    "            parseMail = Parser().parsestr(mailData)\n",
    "    \n",
    "        if parseMail['to']:\n",
    "            toMail = parseMail['to']\n",
    "            \n",
    "            toMail = toMail.replace(\"\\t\", \"\")\n",
    "            toMail = toMail.replace(\"\\n\", \"\")\n",
    "            toMail = toMail.replace(\" \", \"\")\n",
    "            toMail = toMail.split(\",\")\n",
    "\n",
    "            for mail in toMail:\n",
    "                toList.append(mail)\n",
    "\n",
    "        fromList.append(parseMail['from'])\n",
    "       \n",
    "        contentMail.append(parseMail.get_payload())  # appending a mail content to the list\n",
    "        \n",
    "print(\"\\nTop 10 From email adresses: \\n\")\n",
    "topFromList = Counter(fromList).most_common(10)  # list of top 10 from mailers in all fOlders\n",
    "print(topFromList)\n",
    "                           \n",
    "print(\"\\nTop 10 To email adresses: \\n\")\n",
    "topToList = Counter(toList).most_common(10)\n",
    "print(topToList)"
   ]
  },
  {
   "cell_type": "markdown",
   "metadata": {
    "collapsed": false
   },
   "source": [
    "# retreiving example, only mail-id from the top 10 tuple "
   ]
  },
  {
   "cell_type": "code",
   "execution_count": 50,
   "metadata": {
    "collapsed": false
   },
   "outputs": [
    {
     "name": "stdout",
     "output_type": "stream",
     "text": [
      "kay.mann@enron.com\n"
     ]
    },
    {
     "data": {
      "text/plain": [
       "'richard.shapiro@enron.com'"
      ]
     },
     "execution_count": 50,
     "metadata": {},
     "output_type": "execute_result"
    }
   ],
   "source": [
    "topFromList = Counter(fromList).most_common(10)\n",
    "topToList = Counter(toList).most_common(10)\n",
    "\n",
    "print(topFromList[0][0])\n",
    "topToList[0][0]"
   ]
  },
  {
   "cell_type": "code",
   "execution_count": 63,
   "metadata": {
    "collapsed": false
   },
   "outputs": [
    {
     "name": "stdout",
     "output_type": "stream",
     "text": [
      "30\n"
     ]
    }
   ],
   "source": []
  },
  {
   "cell_type": "markdown",
   "metadata": {
    "collapsed": true
   },
   "source": [
    "# Analysis 1 end"
   ]
  },
  {
   "cell_type": "code",
   "execution_count": null,
   "metadata": {
    "collapsed": true
   },
   "outputs": [],
   "source": []
  },
  {
   "cell_type": "markdown",
   "metadata": {},
   "source": [
    "# Analysis 2 Start"
   ]
  },
  {
   "cell_type": "markdown",
   "metadata": {},
   "source": [
    "# Reducing the mail data based on year and top mail senders and receivers"
   ]
  },
  {
   "cell_type": "code",
   "execution_count": 131,
   "metadata": {
    "collapsed": false
   },
   "outputs": [
    {
     "data": {
      "text/plain": [
       "[['paul.kaufman@enron.com',\n",
       "  'Phillip:\\n\\nI have a meeting tomorrow morning with the Oregon PUC staff to discuss a \\nnumber of pricing and supply issues.  Can I use the information attached to \\nyour e-mail in the meeting with staff?\\n\\nPaul\\n\\n\\nTo: Christi L Nicolay/HOU/ECT@ECT, James D Steffes/NA/Enron@ENRON, Jeff \\nDasovich/NA/Enron@ENRON, Joe Hartsoe/Corp/Enron@ENRON, Mary Hain/HOU/ECT@ECT, \\npallen@enron.com, pkaufma@enron.com, Richard B Sanders/HOU/ECT@ECT, Richard \\nShapiro/NA/Enron@ENRON, Stephanie Miller/Corp/Enron@ENRON, Steven J \\nKean/NA/Enron@ENRON, Susan J Mara/NA/Enron@ENRON, Rebecca W \\nCantrell/HOU/ECT@ECT\\ncc:  \\nSubject: \\n\\nAttached  are two files that illustrate the following:\\n\\nAs prices rose, supply increased and demand decreased.  Now prices are \\nbeginning to fall in response these market responses. \\n\\n\\n\\n\\n\\n\\n\\n\\n\\n\\n\\n\\n']]"
      ]
     },
     "execution_count": 131,
     "metadata": {},
     "output_type": "execute_result"
    }
   ],
   "source": [
    "years = ['1998','1999','2000','2001']\n",
    "\n",
    "topMailsData = [] # list to store the reduced mail data\n",
    "\n",
    "for directory, subdirectory, files in  os.walk(maildir):\n",
    "    for file in files:\n",
    "        with open(os.path.join(directory, file), 'r',encoding='utf-8', errors='ignore') as mailFile:\n",
    "            mailData = mailFile.read()\n",
    "            parseMail = Parser().parsestr(mailData)\n",
    "            content = parseMail.get_payload()\n",
    "            date = str(parseMail['date'])\n",
    "            year = date[-26:-21]\n",
    "            \n",
    "            if str(year.strip()) in years:\n",
    "                for i in range(10):\n",
    "                    if str(parseMail['from']) in topFromList[i][0]:\n",
    "                        \n",
    "                        topMailsData.append([parseMail['from'],content])\n",
    "                        \n",
    "                    if str(parseMail['from']) in topToList[i][0]:\n",
    "                        topMailsData.append([parseMail['from'],content])\n",
    "                        \n",
    "                    if str(parseMail['from']) in topFromCEO[i][0]:\n",
    "                        topMailsData.append([parseMail['from'],content])\n",
    "                        \n",
    "                    if str(parseMail['from']) in topToCEO[i][0]:\n",
    "                        topMailsData.append([parseMail['from'],content])\n",
    "                        \n",
    "\n",
    "topMailsData[:1]"
   ]
  },
  {
   "cell_type": "markdown",
   "metadata": {},
   "source": [
    "# writing the reduced data to \"topMails\" file in \"ana1\" folder"
   ]
  },
  {
   "cell_type": "code",
   "execution_count": 51,
   "metadata": {
    "collapsed": true
   },
   "outputs": [],
   "source": [
    "\n",
    "with open(\"ana1/topMails.txt\",'w') as topFile:\n",
    "    for mail in topMailsData:\n",
    "        topFile.write(mail)\n",
    "        topFile.write(\"\\n\")\n",
    "        "
   ]
  },
  {
   "cell_type": "markdown",
   "metadata": {},
   "source": [
    "# Analysis 2 end"
   ]
  },
  {
   "cell_type": "code",
   "execution_count": null,
   "metadata": {
    "collapsed": true
   },
   "outputs": [],
   "source": []
  },
  {
   "cell_type": "markdown",
   "metadata": {},
   "source": [
    "# Analysis 3 start"
   ]
  },
  {
   "cell_type": "code",
   "execution_count": null,
   "metadata": {
    "collapsed": true
   },
   "outputs": [],
   "source": []
  },
  {
   "cell_type": "markdown",
   "metadata": {},
   "source": [
    "# keywords to search in the reduced data to find top suspects"
   ]
  },
  {
   "cell_type": "code",
   "execution_count": 144,
   "metadata": {
    "collapsed": false
   },
   "outputs": [
    {
     "data": {
      "text/plain": [
       "['Special Purpose Entity', 'Bankrupt', 'SPE', 'Fraud']"
      ]
     },
     "execution_count": 144,
     "metadata": {},
     "output_type": "execute_result"
    }
   ],
   "source": [
    "suspectWords = ['Special Purpose Entity','Bankrupt','SPE','Fraud','Shutdown','Talking Points','FERC',\n",
    "'deal','risk','agreement', 'enron','debt','investment','market','chang','contract','corp','trade']\n",
    "suspectWords[:4]"
   ]
  },
  {
   "cell_type": "markdown",
   "metadata": {},
   "source": [
    "# unique consolidated top Mailers list"
   ]
  },
  {
   "cell_type": "code",
   "execution_count": 104,
   "metadata": {
    "collapsed": false
   },
   "outputs": [
    {
     "data": {
      "text/plain": [
       "['rosalee.fleming@enron.com',\n",
       " 'brown_mary_jo@lilly.com',\n",
       " 'leonardo.pacheco@enron.com',\n",
       " 'savont@email.msn.com',\n",
       " 'tori.wells@enron.com']"
      ]
     },
     "execution_count": 104,
     "metadata": {},
     "output_type": "execute_result"
    }
   ],
   "source": [
    "topmailerslist = []\n",
    "\n",
    "for name in topFromCEO:\n",
    "    \n",
    "    topmailerslist.append(name[0])\n",
    "    \n",
    "for name in topToCEO:\n",
    "    topmailerslist.append(name[0])\n",
    "    \n",
    "for name in topFromList:\n",
    "    topmailerslist.append(name[0])\n",
    "    \n",
    "for name in topToList:\n",
    "    topmailerslist.append(name[0])\n",
    "    \n",
    "len(topmailerslist)\n",
    "\n",
    "topUniqueMailers = set(topmailerslist)\n",
    "topmailerslist[:5]"
   ]
  },
  {
   "cell_type": "code",
   "execution_count": null,
   "metadata": {
    "collapsed": false
   },
   "outputs": [],
   "source": [
    "\n",
    "        "
   ]
  },
  {
   "cell_type": "markdown",
   "metadata": {},
   "source": [
    "# counting number of suspect words for top mailers ids"
   ]
  },
  {
   "cell_type": "code",
   "execution_count": 148,
   "metadata": {
    "collapsed": false
   },
   "outputs": [
    {
     "name": "stdout",
     "output_type": "stream",
     "text": [
      "[['mark.taylor@enron.com', 3025], ['kenneth.lay@enron.com', 6], ['kay.mann@enron.com', 8830], ['kaminski@enron.com', 97], ['john.sherriff@enron.com', 93], ['susan.mara@enron.com', 2472], ['rosalee.fleming@enron.com', 510], ['brown_mary_jo@lilly.com', 22], ['elizabeth.davis@compaq.com', 0], ['brown@enron.com', 6], ['piro@enron.com', 1], ['paul.kaufman@enron.com', 199], ['savont@email.msn.com', 0], ['chris.germany@enron.com', 5362], ['mcmahon@enron.com', 1], ['jeffrey.mcmahon@enron.com', 53], ['jeff.skilling@enron.com', 1], ['james.steffes@enron.com', 2825], ['vince.kaminski@enron.com', 6487], ['mark.frevert@enron.com', 46], ['katherine.brown@enron.com', 7], ['tana.jones@enron.com', 7674], ['richard.shapiro@enron.com', 1826], ['skilling@enron.com', 0], ['leonardo.pacheco@enron.com', 0], ['sara.shackleton@enron.com', 8796], ['mrslinda@lplpi.com', 7], ['mike.mcconnell@enron.com', 1264], ['mark.koenig@enron.com', 273], ['tori.wells@enron.com', 11], ['enron.announcements@enron.com', 4866], ['kate.symes@enron.com', 6071], ['greg.whalley@enron.com', 439], ['steffes@enron.com', 8], ['pete.davis@enron.com', 462], ['jeff.dasovich@enron.com', 22660], ['shapiro@enron.com', 1], ['mann@enron.com', 0], ['lizard_ar@yahoo.com', 0], ['no.address@enron.com', 2592], ['steven.kean@enron.com', 20421], ['taylor@enron.com', 0], ['whalley@enron.com', 0]]\n"
     ]
    }
   ],
   "source": [
    "topData = topMailsData\n",
    "suspectDict= {}\n",
    "countTemp = []\n",
    "\n",
    "for mail in topData:\n",
    "    parseMl =  Parser().parsestr(mail[1])\n",
    "    content = parseMl.get_payload()\n",
    "    words = content.split(' ')\n",
    "    mailid = mail[0]\n",
    "    \n",
    "    count = 0\n",
    "    for word in words:\n",
    "            \n",
    "        if word in suspectWords:\n",
    "            count += 1\n",
    "            \n",
    "    if suspectDict is None:\n",
    "        suspectDict[mailid] = count\n",
    "    elif mailid in suspectDict.keys():\n",
    "        suspectDict[mailid]+= count\n",
    "    else:\n",
    "        suspectDict[mailid] = count\n",
    "        \n",
    "        \n",
    "suspectList =[]\n",
    "\n",
    "for key,value in suspectDict.items():\n",
    "    suspectList.append([key,value])\n",
    "    \n",
    "print(suspectList)\n",
    "        "
   ]
  },
  {
   "cell_type": "code",
   "execution_count": 151,
   "metadata": {
    "collapsed": false
   },
   "outputs": [
    {
     "data": {
      "text/plain": [
       "[['jeff.dasovich@enron.com', 22660],\n",
       " ['steven.kean@enron.com', 20421],\n",
       " ['kay.mann@enron.com', 8830],\n",
       " ['sara.shackleton@enron.com', 8796],\n",
       " ['tana.jones@enron.com', 7674],\n",
       " ['vince.kaminski@enron.com', 6487],\n",
       " ['kate.symes@enron.com', 6071],\n",
       " ['chris.germany@enron.com', 5362],\n",
       " ['enron.announcements@enron.com', 4866],\n",
       " ['mark.taylor@enron.com', 3025]]"
      ]
     },
     "execution_count": 151,
     "metadata": {},
     "output_type": "execute_result"
    }
   ],
   "source": [
    "orderedsuspectList = suspectList\n",
    "orderedsuspectList.sort(key=lambda tup: tup[1], reverse = True)\n",
    "orderedsuspectList[:10]"
   ]
  },
  {
   "cell_type": "markdown",
   "metadata": {},
   "source": [
    "# write the output to csv file"
   ]
  },
  {
   "cell_type": "code",
   "execution_count": 152,
   "metadata": {
    "collapsed": false
   },
   "outputs": [],
   "source": [
    "import csv\n",
    "with open('ana1/schedule.csv','w') as csvfile:\n",
    "    writer = csv.writer(csvfile)\n",
    "    writer.writerow([\"Email id\",\"Frequency of suspecting words\"])\n",
    "    writer.writerows(orderedsuspectList)\n",
    "                     "
   ]
  },
  {
   "cell_type": "code",
   "execution_count": null,
   "metadata": {
    "collapsed": true
   },
   "outputs": [],
   "source": []
  }
 ],
 "metadata": {
  "anaconda-cloud": {},
  "kernelspec": {
   "display_name": "Python [conda root]",
   "language": "python",
   "name": "conda-root-py"
  },
  "language_info": {
   "codemirror_mode": {
    "name": "ipython",
    "version": 3
   },
   "file_extension": ".py",
   "mimetype": "text/x-python",
   "name": "python",
   "nbconvert_exporter": "python",
   "pygments_lexer": "ipython3",
   "version": "3.5.2"
  }
 },
 "nbformat": 4,
 "nbformat_minor": 1
}
