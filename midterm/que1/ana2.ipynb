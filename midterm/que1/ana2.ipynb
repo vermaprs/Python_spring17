{
 "cells": [
  {
   "cell_type": "markdown",
   "metadata": {},
   "source": [
    "# Analysis 2"
   ]
  },
  {
   "cell_type": "code",
   "execution_count": 24,
   "metadata": {
    "collapsed": false
   },
   "outputs": [
    {
     "name": "stdout",
     "output_type": "stream",
     "text": [
      "0\n"
     ]
    },
    {
     "data": {
      "text/plain": [
       "[]"
      ]
     },
     "execution_count": 24,
     "metadata": {},
     "output_type": "execute_result"
    }
   ],
   "source": [
    "years = ['1998','1999','2000','2001','2002']\n",
    "year = []\n",
    "yr = 0\n",
    "with open('ana1/topMails.txt') as topFile:\n",
    "    lines = topFile.read()\n",
    "    for line in lines:\n",
    "        \n",
    "        words = line.split(' ')\n",
    "        for word in words:\n",
    "            if word == \"Date\":\n",
    "                dates = line.split('/')\n",
    "                for date in dates:\n",
    "                    if date in years:\n",
    "                        year.append(date)\n",
    "                        yr +=1\n",
    "            \n",
    "print(yr)\n",
    "year[:5]"
   ]
  },
  {
   "cell_type": "code",
   "execution_count": null,
   "metadata": {
    "collapsed": false
   },
   "outputs": [],
   "source": [
    "years = ['1998','1999','2000','2001','2002']\n",
    "year = []\n",
    "content = []\n",
    "yr = 0\n",
    "with open('ana1/topMails.txt' , 'r') as topFile:\n",
    "    lines = topFile.read()\n",
    "    \n",
    "          \n",
    "        \n",
    "print(yr)\n",
    "content[:5]"
   ]
  },
  {
   "cell_type": "code",
   "execution_count": 20,
   "metadata": {
    "collapsed": false
   },
   "outputs": [
    {
     "data": {
      "text/plain": [
       "['Ken will attend both meetings.', '', 'Rosie', '', '']"
      ]
     },
     "execution_count": 20,
     "metadata": {},
     "output_type": "execute_result"
    }
   ],
   "source": [
    "from email.parser import Parser\n",
    "years = ['1998','1999','2000','2001','2002']\n",
    "year = []\n",
    "content = []\n",
    "yr = 0\n",
    "with open('ana1/topMails.txt' , 'r') as topFile:\n",
    "    data = topFile.readlines()\n",
    "    \n",
    "    lines = [x.strip() for x in data] \n",
    "    \n",
    "\n",
    "content = lines[:5000]\n",
    "content[:5]"
   ]
  },
  {
   "cell_type": "code",
   "execution_count": null,
   "metadata": {
    "collapsed": true
   },
   "outputs": [],
   "source": [
    "\n",
    "\n",
    "for i in range(len(content)):\n",
    "    if content[i]\n",
    "    \n",
    "    \n",
    "    \n",
    "    "
   ]
  }
 ],
 "metadata": {
  "anaconda-cloud": {},
  "kernelspec": {
   "display_name": "Python [conda root]",
   "language": "python",
   "name": "conda-root-py"
  },
  "language_info": {
   "codemirror_mode": {
    "name": "ipython",
    "version": 3
   },
   "file_extension": ".py",
   "mimetype": "text/x-python",
   "name": "python",
   "nbconvert_exporter": "python",
   "pygments_lexer": "ipython3",
   "version": "3.5.2"
  }
 },
 "nbformat": 4,
 "nbformat_minor": 1
}
