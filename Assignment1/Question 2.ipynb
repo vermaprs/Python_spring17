{
 "cells": [
  {
   "cell_type": "markdown",
   "metadata": {},
   "source": [
    "# Question 2"
   ]
  },
  {
   "cell_type": "markdown",
   "metadata": {},
   "source": [
    "1. Under package Gutenberg get content from file 'melville-moby_dick.txt.' (HINT: Words? Raw?)\n",
    "2. Find out frequency of 26 characters. (Turn uppercase into lowercase and count as one character)\n",
    "3. List all 26 characters in order base on their frequency. (From most frequent to least frequent)\n",
    "4. Try NOT to use FreqDist module."
   ]
  },
  {
   "cell_type": "code",
   "execution_count": 1,
   "metadata": {
    "collapsed": false
   },
   "outputs": [
    {
     "data": {
      "text/plain": [
       "['austen-emma.txt',\n",
       " 'austen-persuasion.txt',\n",
       " 'austen-sense.txt',\n",
       " 'bible-kjv.txt',\n",
       " 'blake-poems.txt',\n",
       " 'bryant-stories.txt',\n",
       " 'burgess-busterbrown.txt',\n",
       " 'carroll-alice.txt',\n",
       " 'chesterton-ball.txt',\n",
       " 'chesterton-brown.txt',\n",
       " 'chesterton-thursday.txt',\n",
       " 'edgeworth-parents.txt',\n",
       " 'melville-moby_dick.txt',\n",
       " 'milton-paradise.txt',\n",
       " 'shakespeare-caesar.txt',\n",
       " 'shakespeare-hamlet.txt',\n",
       " 'shakespeare-macbeth.txt',\n",
       " 'whitman-leaves.txt']"
      ]
     },
     "execution_count": 1,
     "metadata": {},
     "output_type": "execute_result"
    }
   ],
   "source": [
    "import nltk\n",
    "nltk.corpus.gutenberg.fileids()      #files in gutenberg package"
   ]
  },
  {
   "cell_type": "code",
   "execution_count": 5,
   "metadata": {
    "collapsed": false
   },
   "outputs": [
    {
     "data": {
      "text/plain": [
       "['[', 'Moby', 'Dick', 'by', 'Herman', 'Melville', ...]"
      ]
     },
     "execution_count": 5,
     "metadata": {},
     "output_type": "execute_result"
    }
   ],
   "source": [
    "raw_txt = nltk.corpus.gutenberg.words('melville-moby_dick.txt')\n",
    "raw_txt[:200]"
   ]
  },
  {
   "cell_type": "code",
   "execution_count": 25,
   "metadata": {
    "collapsed": false
   },
   "outputs": [
    {
     "data": {
      "text/plain": [
       "'[moby dick by herman melville 1851]\\r\\n\\r\\n\\r\\netymology.\\r\\n\\r\\n(supplied by a late consumptive usher to a g'"
      ]
     },
     "execution_count": 25,
     "metadata": {},
     "output_type": "execute_result"
    }
   ],
   "source": [
    "all_lower = raw_txt.lower()\n",
    "all_lower[:99]"
   ]
  },
  {
   "cell_type": "code",
   "execution_count": 26,
   "metadata": {
    "collapsed": false
   },
   "outputs": [
    {
     "data": {
      "text/plain": [
       "Counter({'a': 77916,\n",
       "         'b': 16877,\n",
       "         'c': 22507,\n",
       "         'd': 38219,\n",
       "         'e': 117092,\n",
       "         'f': 20833,\n",
       "         'g': 20820,\n",
       "         'h': 62896,\n",
       "         'i': 65434,\n",
       "         'j': 1082,\n",
       "         'k': 8059,\n",
       "         'l': 42793,\n",
       "         'm': 23277,\n",
       "         'n': 65617,\n",
       "         'o': 69326,\n",
       "         'p': 17255,\n",
       "         'q': 1556,\n",
       "         'r': 52134,\n",
       "         's': 64231,\n",
       "         't': 87996,\n",
       "         'u': 26697,\n",
       "         'v': 8598,\n",
       "         'w': 22222,\n",
       "         'x': 1030,\n",
       "         'y': 16872,\n",
       "         'z': 632})"
      ]
     },
     "execution_count": 26,
     "metadata": {},
     "output_type": "execute_result"
    }
   ],
   "source": [
    "from collections import Counter\n",
    "freq = Counter()\n",
    "stop_words = ['0','1','2','3','4','5','6','7','8','9','~','`','!','@','#','$','%','^','&','*','(',')','-','_','=','+','\\\\','|','\"',\"'\",':',';','.','<',',','.','>','?','/','{','}','[',']'] \n",
    "for w in all_lower:\n",
    "    if w not in stop_words:\n",
    "        freq += Counter(w.strip())\n",
    "\n",
    "freq"
   ]
  },
  {
   "cell_type": "code",
   "execution_count": 27,
   "metadata": {
    "collapsed": false
   },
   "outputs": [
    {
     "data": {
      "text/plain": [
       "OrderedDict([('e', 117092),\n",
       "             ('t', 87996),\n",
       "             ('a', 77916),\n",
       "             ('o', 69326),\n",
       "             ('n', 65617),\n",
       "             ('i', 65434),\n",
       "             ('s', 64231),\n",
       "             ('h', 62896),\n",
       "             ('r', 52134),\n",
       "             ('l', 42793),\n",
       "             ('d', 38219),\n",
       "             ('u', 26697),\n",
       "             ('m', 23277),\n",
       "             ('c', 22507),\n",
       "             ('w', 22222),\n",
       "             ('f', 20833),\n",
       "             ('g', 20820),\n",
       "             ('p', 17255),\n",
       "             ('b', 16877),\n",
       "             ('y', 16872),\n",
       "             ('v', 8598),\n",
       "             ('k', 8059),\n",
       "             ('q', 1556),\n",
       "             ('j', 1082),\n",
       "             ('x', 1030),\n",
       "             ('z', 632)])"
      ]
     },
     "execution_count": 27,
     "metadata": {},
     "output_type": "execute_result"
    }
   ],
   "source": [
    "from collections import OrderedDict\n",
    "ordered_freq = OrderedDict(sorted(freq.items(), key=lambda y: y[1],reverse=True))\n",
    "ordered_freq"
   ]
  },
  {
   "cell_type": "code",
   "execution_count": null,
   "metadata": {
    "collapsed": true
   },
   "outputs": [],
   "source": []
  }
 ],
 "metadata": {
  "anaconda-cloud": {},
  "kernelspec": {
   "display_name": "Python [conda root]",
   "language": "python",
   "name": "conda-root-py"
  },
  "language_info": {
   "codemirror_mode": {
    "name": "ipython",
    "version": 3
   },
   "file_extension": ".py",
   "mimetype": "text/x-python",
   "name": "python",
   "nbconvert_exporter": "python",
   "pygments_lexer": "ipython3",
   "version": "3.5.2"
  }
 },
 "nbformat": 4,
 "nbformat_minor": 1
}
