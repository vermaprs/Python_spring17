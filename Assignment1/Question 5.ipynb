{
 "cells": [
  {
   "cell_type": "markdown",
   "metadata": {},
   "source": [
    "# Question 5"
   ]
  },
  {
   "cell_type": "markdown",
   "metadata": {},
   "source": [
    "1. Use Gutenberg and Web_text data. Find out what are the top 5 words that Shakespeare used but we do not use in currently.\n",
    "2. Take top 50 words from Shakespeare (all 3 books) and top 50 from Web_text (all the records).\n",
    "3. Remove punctuation and stop words.\n",
    "4. Remove the words we still use today, and get the unused list. Show the top 5 elements. \n"
   ]
  },
  {
   "cell_type": "code",
   "execution_count": 23,
   "metadata": {
    "collapsed": false
   },
   "outputs": [
    {
     "data": {
      "text/plain": [
       "['austen-emma.txt',\n",
       " 'austen-persuasion.txt',\n",
       " 'austen-sense.txt',\n",
       " 'bible-kjv.txt',\n",
       " 'blake-poems.txt',\n",
       " 'bryant-stories.txt',\n",
       " 'burgess-busterbrown.txt',\n",
       " 'carroll-alice.txt',\n",
       " 'chesterton-ball.txt',\n",
       " 'chesterton-brown.txt',\n",
       " 'chesterton-thursday.txt',\n",
       " 'edgeworth-parents.txt',\n",
       " 'melville-moby_dick.txt',\n",
       " 'milton-paradise.txt',\n",
       " 'shakespeare-caesar.txt',\n",
       " 'shakespeare-hamlet.txt',\n",
       " 'shakespeare-macbeth.txt',\n",
       " 'whitman-leaves.txt']"
      ]
     },
     "execution_count": 23,
     "metadata": {},
     "output_type": "execute_result"
    }
   ],
   "source": [
    "import nltk\n",
    "from nltk.corpus import gutenberg\n",
    "gutenberg.fileids()"
   ]
  },
  {
   "cell_type": "code",
   "execution_count": 2,
   "metadata": {
    "collapsed": false
   },
   "outputs": [
    {
     "data": {
      "text/plain": [
       "['firefox.txt',\n",
       " 'grail.txt',\n",
       " 'overheard.txt',\n",
       " 'pirates.txt',\n",
       " 'singles.txt',\n",
       " 'wine.txt']"
      ]
     },
     "execution_count": 2,
     "metadata": {},
     "output_type": "execute_result"
    }
   ],
   "source": [
    "from nltk.corpus import webtext\n",
    "webtext.fileids()"
   ]
  },
  {
   "cell_type": "code",
   "execution_count": 54,
   "metadata": {
    "collapsed": false
   },
   "outputs": [
    {
     "name": "stdout",
     "output_type": "stream",
     "text": [
      "([ -> 1)\n",
      "(julius -> 1)\n",
      "(caesar -> 1)\n",
      "(william -> 1)\n",
      "(shakespeare -> 1)\n"
     ]
    }
   ],
   "source": [
    "from nltk.corpus import stopwords\n",
    "stop_words=stopwords.words('english')\n",
    "stopwords = ['0','1','2','3','4','5','6','7','8','9','~','`','!','@','#','$','%','^','&','*','(',')','-','_','=','+','\\\\','|','\"',\"'\",':',';','.','<',',','.','>','?','/','{','}','[',']'] \n",
    "\n",
    "common_words = []\n",
    "for file in webtext.fileids():\n",
    "    webtext_words=webtext.words(str(file))\n",
    "    for word in webtext_words:\n",
    "        if word.lower() not in common_words:\n",
    "            if word.lower() not in stop_words:\n",
    "                common_words.append(word.lower())\n",
    "    \n",
    "\n",
    "\n",
    "count=0\n",
    "shakes_words = []\n",
    "for file in nltk.corpus.gutenberg.fileids():\n",
    "    if file.startswith('shak'):\n",
    "        for word in nltk.corpus.gutenberg.words(file):\n",
    "            if word.lower() not in stop_words:\n",
    "                if word.lower() not in shakes_words:\n",
    "                    shakes_words.append(word.lower())\n",
    "                    \n",
    "                    \n",
    "                    \n",
    "                    \n",
    "\n",
    "\n",
    "\n",
    "\n",
    "not_used_words = []\n",
    "for words in shakes_words:\n",
    "    if words in common_words:\n",
    "        not_used_words.append(words.lower())\n",
    "\n",
    "countwrds = []\n",
    "for words in not_used_words:\n",
    "    if words not in countwrds:\n",
    "        countwrds.append(not_used_words.count(words.lower()))   \n",
    "        \n",
    "        \n",
    "\n",
    "\n",
    "countwrds.sort()\n",
    "countwrds.reverse()\n",
    "top_counts = countwrds[:5]                      \n",
    "       \n",
    "top_words = []                      \n",
    "for count in top_counts:\n",
    "    for words in not_used_words:                  \n",
    "        if (count == not_used_words.count(words.lower())):\n",
    "            top_words.append(words.lower())\n",
    "                                        \n",
    "for num in range(5):\n",
    "    print(\"(%s -> %d)\" % (top_words[num], top_counts[num]))"
   ]
  },
  {
   "cell_type": "code",
   "execution_count": 30,
   "metadata": {
    "collapsed": false
   },
   "outputs": [
    {
     "name": "stdout",
     "output_type": "stream",
     "text": [
      "['[', 'tragedie', 'julius', 'caesar', 'william', 'shakespeare', '1599', ']', 'actus', 'primus', '.', 'scoena', 'prima', 'enter', 'flauius', ',', 'murellus', 'certaine', 'commoners', 'ouer', 'stage', 'hence', ':', 'home', 'idle', 'creatures', 'get', 'holiday', '?', 'know']\n",
      "7450\n"
     ]
    }
   ],
   "source": [
    "\n",
    "\n",
    "\n",
    "\n",
    "\n",
    "        \n"
   ]
  },
  {
   "cell_type": "code",
   "execution_count": null,
   "metadata": {
    "collapsed": true
   },
   "outputs": [],
   "source": []
  }
 ],
 "metadata": {
  "anaconda-cloud": {},
  "kernelspec": {
   "display_name": "Python [conda root]",
   "language": "python",
   "name": "conda-root-py"
  },
  "language_info": {
   "codemirror_mode": {
    "name": "ipython",
    "version": 3
   },
   "file_extension": ".py",
   "mimetype": "text/x-python",
   "name": "python",
   "nbconvert_exporter": "python",
   "pygments_lexer": "ipython3",
   "version": "3.5.2"
  }
 },
 "nbformat": 4,
 "nbformat_minor": 1
}
