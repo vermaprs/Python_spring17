{
 "cells": [
  {
   "cell_type": "markdown",
   "metadata": {},
   "source": [
    "# Question 3"
   ]
  },
  {
   "cell_type": "markdown",
   "metadata": {},
   "source": [
    "1. Under package Webtext, see what files are in it.\n",
    "2. Get content in file 'pirates.txt'.\n",
    "3. According to the number of lines for Jack Sparrow and Will Turner, find out who is the real leading man in this movie.\n"
   ]
  },
  {
   "cell_type": "code",
   "execution_count": 1,
   "metadata": {
    "collapsed": false
   },
   "outputs": [
    {
     "data": {
      "text/plain": [
       "['firefox.txt',\n",
       " 'grail.txt',\n",
       " 'overheard.txt',\n",
       " 'pirates.txt',\n",
       " 'singles.txt',\n",
       " 'wine.txt']"
      ]
     },
     "execution_count": 1,
     "metadata": {},
     "output_type": "execute_result"
    }
   ],
   "source": [
    "import nltk\n",
    "nltk.corpus.webtext.fileids()   #files in webtext package"
   ]
  },
  {
   "cell_type": "code",
   "execution_count": 13,
   "metadata": {
    "collapsed": false
   },
   "outputs": [
    {
     "name": "stdout",
     "output_type": "stream",
     "text": [
      "['PIRATES', 'OF', 'THE', 'CARRIBEAN', ':', 'DEAD', 'MAN', \"'\", 'S', 'CHEST', ',', 'by', 'Ted', 'Elliott', '&', 'Terry', 'Rossio', '[', 'view', 'looking', 'straight', 'down', 'at', 'rolling', 'swells', ',', 'sound', 'of', 'wind', 'and', 'thunder', ',', 'then', 'a', 'low', 'heartbeat', ']', 'Scene', ':', 'PORT', 'ROYAL', '[', 'teacups', 'on', 'a', 'table', 'in', 'the', 'rain', ']', '[', 'sheet', 'music', 'on', 'music', 'stands', 'in', 'the', 'rain', ']', '[', 'bouquet', 'of', 'white', 'orchids', ',', 'Elizabeth', 'sitting', 'in', 'the', 'rain', 'holding', 'the', 'bouquet', ']', '[', 'men', 'rowing', ',', 'men', 'on', 'horseback', ',', 'to', 'the', 'sound', 'of', 'thunder', ']', '[', 'EITC', 'logo', 'on', 'flag', 'blowing', 'in', 'the', 'wind', ']', '[']\n"
     ]
    }
   ],
   "source": [
    "sentences = nltk.corpus.webtext.words('pirates.txt')\n",
    "print(sentences[:100])"
   ]
  },
  {
   "cell_type": "code",
   "execution_count": 12,
   "metadata": {
    "collapsed": false
   },
   "outputs": [
    {
     "name": "stdout",
     "output_type": "stream",
     "text": [
      "Jack is leading\n"
     ]
    }
   ],
   "source": [
    "dialog_will = sentences.count(\"\\n Will Turner:\")\n",
    "dialog_jack = sentences.count(\"\\n Jack Sparrow:\")\n",
    "\n",
    "if dialog_will > dialog_jack:\n",
    "    print(\"Will is leading\")\n",
    "else:\n",
    "    print(\"Jack is leading\")"
   ]
  },
  {
   "cell_type": "code",
   "execution_count": null,
   "metadata": {
    "collapsed": true
   },
   "outputs": [],
   "source": []
  }
 ],
 "metadata": {
  "kernelspec": {
   "display_name": "Python [conda root]",
   "language": "python",
   "name": "conda-root-py"
  },
  "language_info": {
   "codemirror_mode": {
    "name": "ipython",
    "version": 3
   },
   "file_extension": ".py",
   "mimetype": "text/x-python",
   "name": "python",
   "nbconvert_exporter": "python",
   "pygments_lexer": "ipython3",
   "version": "3.5.2"
  }
 },
 "nbformat": 4,
 "nbformat_minor": 1
}
