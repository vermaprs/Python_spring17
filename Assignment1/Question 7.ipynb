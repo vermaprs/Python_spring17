{
 "cells": [
  {
   "cell_type": "markdown",
   "metadata": {},
   "source": [
    "# Question 7"
   ]
  },
  {
   "cell_type": "markdown",
   "metadata": {},
   "source": [
    "1. Use Name corpus, calculate the probability of a name being of a male or female base on the last character(s) of name.\n",
    "2. Sample steps:\n",
    "3. For char ‘a’:\n",
    "\ttotal_names = sum(names ending with ‘a’)\n",
    "\tmale_names = sum(male names ending with ‘a’)\n",
    "\tfemale_names = sum(female names ending with ‘a’)\n",
    "\tProbability of name being male = 100 * male_names / total_names\n",
    "4. Do this for all characters. \n",
    "5. Output must come with proper title (e.g. [a] male: 25%, female: 60%)\n"
   ]
  },
  {
   "cell_type": "code",
   "execution_count": 3,
   "metadata": {
    "collapsed": false
   },
   "outputs": [
    {
     "data": {
      "text/plain": [
       "['female.txt', 'male.txt']"
      ]
     },
     "execution_count": 3,
     "metadata": {},
     "output_type": "execute_result"
    }
   ],
   "source": [
    "from nltk.corpus import names\n",
    "names.fileids()"
   ]
  },
  {
   "cell_type": "code",
   "execution_count": 26,
   "metadata": {
    "collapsed": false
   },
   "outputs": [
    {
     "data": {
      "text/plain": [
       "'Abagael\\nAbagail\\nAbbe\\nAbbey\\nAbbi\\nAbbie\\nAbby\\nAbigael\\nAbigail\\nAbigale\\nAbra\\nAcacia\\nAda\\nAdah\\nAdaline\\nAdara\\nAddie\\nAddis\\nAdel\\nAdela\\nAdelaide\\nAdele\\nAdelice\\nAdelina\\nAdelind\\nAdeline\\nAdella\\nAdelle\\nAdena\\nAdey\\nAdi'"
      ]
     },
     "execution_count": 26,
     "metadata": {},
     "output_type": "execute_result"
    }
   ],
   "source": [
    "names.raw('female.txt')[:200]"
   ]
  },
  {
   "cell_type": "code",
   "execution_count": 37,
   "metadata": {
    "collapsed": false
   },
   "outputs": [
    {
     "name": "stdout",
     "output_type": "stream",
     "text": [
      "[ a ] male probability: 1.609322974472808 %, female probability: 98.3906770255272 %\n",
      "[ b ] male probability: 70.0 %, female probability: 30.0 %\n",
      "[ c ] male probability: 100.0 %, female probability: 0.0 %\n",
      "[ d ] male probability: 85.39325842696628 %, female probability: 14.606741573033707 %\n",
      "[ e ] male probability: 24.63157894736842 %, female probability: 75.36842105263158 %\n",
      "[ f ] male probability: 92.5925925925926 %, female probability: 7.4074074074074066 %\n",
      "[ g ] male probability: 76.19047619047619 %, female probability: 23.809523809523807 %\n",
      "[ h ] male probability: 46.96969696969697 %, female probability: 53.03030303030303 %\n",
      "[ i ] male probability: 13.623978201634879 %, female probability: 86.37602179836512 %\n",
      "[ j ] male probability: 75.0 %, female probability: 25.0 %\n",
      "[ k ] male probability: 95.83333333333334 %, female probability: 4.166666666666666 %\n",
      "[ l ] male probability: 51.09289617486339 %, female probability: 48.90710382513661 %\n",
      "[ m ] male probability: 84.33734939759037 %, female probability: 15.66265060240964 %\n",
      "[ n ] male probability: 55.32407407407407 %, female probability: 44.675925925925924 %\n",
      "[ o ] male probability: 83.33333333333334 %, female probability: 16.666666666666664 %\n",
      "[ p ] male probability: 90.0 %, female probability: 10.0 %\n",
      "[ q ] male: Zero Probability ,  female: Zero probability\n",
      "[ r ] male probability: 80.16877637130801 %, female probability: 19.831223628691983 %\n",
      "[ s ] male probability: 71.20743034055728 %, female probability: 28.792569659442723 %\n",
      "[ t ] male probability: 70.6896551724138 %, female probability: 29.310344827586203 %\n",
      "[ u ] male probability: 66.66666666666666 %, female probability: 33.33333333333333 %\n",
      "[ v ] male probability: 88.88888888888889 %, female probability: 11.11111111111111 %\n",
      "[ w ] male probability: 77.27272727272727 %, female probability: 22.727272727272727 %\n",
      "[ x ] male probability: 50.0 %, female probability: 50.0 %\n",
      "[ y ] male probability: 41.86633039092055 %, female probability: 58.13366960907944 %\n",
      "[ z ] male probability: 73.33333333333333 %, female probability: 26.666666666666668 %\n"
     ]
    }
   ],
   "source": [
    "from string import ascii_lowercase\n",
    "\n",
    "list_female = names.words('female.txt')\n",
    "list_male = names.words('male.txt')\n",
    "\n",
    "for char in ascii_lowercase:\n",
    "    \n",
    "    female_names = []\n",
    "    male_names = []    \n",
    "    \n",
    "    for name in list_female:\n",
    "        if name.endswith(char):\n",
    "            female_names.append(name)\n",
    "\n",
    "    for name in list_male:\n",
    "        if name.endswith(char):\n",
    "            male_names.append(name)\n",
    "\n",
    "    if(len(male_names) == 0 & len(female_names) == 0):\n",
    "        print(\"[\",char,\"] male: Zero Probability ,  female: Zero probability\")\n",
    "    else:   \n",
    "        male_prob = (len(male_names)/(len(male_names)+len(female_names))) * 100\n",
    "        female_prob =(len(female_names)/(len(male_names)+len(female_names))) * 100\n",
    "    \n",
    "        print(\"[\",char,\"] male probability:\",male_prob,\"%, female probability:\",female_prob,\"%\")\n",
    "\n"
   ]
  },
  {
   "cell_type": "code",
   "execution_count": null,
   "metadata": {
    "collapsed": true
   },
   "outputs": [],
   "source": []
  }
 ],
 "metadata": {
  "kernelspec": {
   "display_name": "Python [conda root]",
   "language": "python",
   "name": "conda-root-py"
  },
  "language_info": {
   "codemirror_mode": {
    "name": "ipython",
    "version": 3
   },
   "file_extension": ".py",
   "mimetype": "text/x-python",
   "name": "python",
   "nbconvert_exporter": "python",
   "pygments_lexer": "ipython3",
   "version": "3.5.2"
  }
 },
 "nbformat": 4,
 "nbformat_minor": 1
}
