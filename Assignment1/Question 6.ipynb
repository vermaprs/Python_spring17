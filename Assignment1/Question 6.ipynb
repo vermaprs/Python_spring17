{
 "cells": [
  {
   "cell_type": "markdown",
   "metadata": {},
   "source": [
    "# Question 6"
   ]
  },
  {
   "cell_type": "markdown",
   "metadata": {},
   "source": [
    "1. Under Inaugural Address package\n",
    "2. For every president, find out how many unique words they used in speech. \n",
    "3. We will just assume that President Bush means one person (technically it is incorrect but we will ignore it)\n"
   ]
  },
  {
   "cell_type": "code",
   "execution_count": 7,
   "metadata": {
    "collapsed": false
   },
   "outputs": [
    {
     "data": {
      "text/plain": [
       "['1789-Washington.txt',\n",
       " '1793-Washington.txt',\n",
       " '1797-Adams.txt',\n",
       " '1801-Jefferson.txt',\n",
       " '1805-Jefferson.txt',\n",
       " '1809-Madison.txt',\n",
       " '1813-Madison.txt',\n",
       " '1817-Monroe.txt',\n",
       " '1821-Monroe.txt',\n",
       " '1825-Adams.txt',\n",
       " '1829-Jackson.txt',\n",
       " '1833-Jackson.txt',\n",
       " '1837-VanBuren.txt',\n",
       " '1841-Harrison.txt',\n",
       " '1845-Polk.txt',\n",
       " '1849-Taylor.txt',\n",
       " '1853-Pierce.txt',\n",
       " '1857-Buchanan.txt',\n",
       " '1861-Lincoln.txt',\n",
       " '1865-Lincoln.txt',\n",
       " '1869-Grant.txt',\n",
       " '1873-Grant.txt',\n",
       " '1877-Hayes.txt',\n",
       " '1881-Garfield.txt',\n",
       " '1885-Cleveland.txt',\n",
       " '1889-Harrison.txt',\n",
       " '1893-Cleveland.txt',\n",
       " '1897-McKinley.txt',\n",
       " '1901-McKinley.txt',\n",
       " '1905-Roosevelt.txt',\n",
       " '1909-Taft.txt',\n",
       " '1913-Wilson.txt',\n",
       " '1917-Wilson.txt',\n",
       " '1921-Harding.txt',\n",
       " '1925-Coolidge.txt',\n",
       " '1929-Hoover.txt',\n",
       " '1933-Roosevelt.txt',\n",
       " '1937-Roosevelt.txt',\n",
       " '1941-Roosevelt.txt',\n",
       " '1945-Roosevelt.txt',\n",
       " '1949-Truman.txt',\n",
       " '1953-Eisenhower.txt',\n",
       " '1957-Eisenhower.txt',\n",
       " '1961-Kennedy.txt',\n",
       " '1965-Johnson.txt',\n",
       " '1969-Nixon.txt',\n",
       " '1973-Nixon.txt',\n",
       " '1977-Carter.txt',\n",
       " '1981-Reagan.txt',\n",
       " '1985-Reagan.txt',\n",
       " '1989-Bush.txt',\n",
       " '1993-Clinton.txt',\n",
       " '1997-Clinton.txt',\n",
       " '2001-Bush.txt',\n",
       " '2005-Bush.txt',\n",
       " '2009-Obama.txt']"
      ]
     },
     "execution_count": 7,
     "metadata": {},
     "output_type": "execute_result"
    }
   ],
   "source": [
    "from nltk.corpus import inaugural\n",
    "inaugural.fileids()"
   ]
  },
  {
   "cell_type": "code",
   "execution_count": 11,
   "metadata": {
    "collapsed": false
   },
   "outputs": [
    {
     "name": "stdout",
     "output_type": "stream",
     "text": [
      "There are 628 unique words in  1789-Washington.txt\n",
      "There are 663 unique words in  1793-Washington.txt\n",
      "There are 1235 unique words in  1797-Adams.txt\n",
      "There are 1623 unique words in  1801-Jefferson.txt\n",
      "There are 2022 unique words in  1805-Jefferson.txt\n",
      "There are 2189 unique words in  1809-Madison.txt\n",
      "There are 2395 unique words in  1813-Madison.txt\n",
      "There are 2796 unique words in  1817-Monroe.txt\n",
      "There are 3234 unique words in  1821-Monroe.txt\n",
      "There are 3519 unique words in  1825-Adams.txt\n",
      "There are 3617 unique words in  1829-Jackson.txt\n",
      "There are 3707 unique words in  1833-Jackson.txt\n",
      "There are 4063 unique words in  1837-VanBuren.txt\n",
      "There are 4684 unique words in  1841-Harrison.txt\n",
      "There are 4959 unique words in  1845-Polk.txt\n",
      "There are 5007 unique words in  1849-Taylor.txt\n",
      "There are 5248 unique words in  1853-Pierce.txt\n",
      "There are 5395 unique words in  1857-Buchanan.txt\n",
      "There are 5595 unique words in  1861-Lincoln.txt\n",
      "There are 5654 unique words in  1865-Lincoln.txt\n",
      "There are 5721 unique words in  1869-Grant.txt\n",
      "There are 5786 unique words in  1873-Grant.txt\n",
      "There are 5898 unique words in  1877-Hayes.txt\n",
      "There are 6067 unique words in  1881-Garfield.txt\n",
      "There are 6153 unique words in  1885-Cleveland.txt\n",
      "There are 6465 unique words in  1889-Harrison.txt\n",
      "There are 6609 unique words in  1893-Cleveland.txt\n",
      "There are 6771 unique words in  1897-McKinley.txt\n",
      "There are 6882 unique words in  1901-McKinley.txt\n",
      "There are 6929 unique words in  1905-Roosevelt.txt\n",
      "There are 7164 unique words in  1909-Taft.txt\n",
      "There are 7297 unique words in  1913-Wilson.txt\n",
      "There are 7345 unique words in  1917-Wilson.txt\n",
      "There are 7598 unique words in  1921-Harding.txt\n",
      "There are 7787 unique words in  1925-Coolidge.txt\n",
      "There are 7952 unique words in  1929-Hoover.txt\n",
      "There are 8054 unique words in  1933-Roosevelt.txt\n",
      "There are 8155 unique words in  1937-Roosevelt.txt\n",
      "There are 8222 unique words in  1941-Roosevelt.txt\n",
      "There are 8241 unique words in  1945-Roosevelt.txt\n",
      "There are 8322 unique words in  1949-Truman.txt\n",
      "There are 8492 unique words in  1953-Eisenhower.txt\n",
      "There are 8573 unique words in  1957-Eisenhower.txt\n",
      "There are 8640 unique words in  1961-Kennedy.txt\n",
      "There are 8719 unique words in  1965-Johnson.txt\n",
      "There are 8827 unique words in  1969-Nixon.txt\n",
      "There are 8864 unique words in  1973-Nixon.txt\n",
      "There are 8915 unique words in  1977-Carter.txt\n",
      "There are 9061 unique words in  1981-Reagan.txt\n",
      "There are 9195 unique words in  1985-Reagan.txt\n",
      "There are 9304 unique words in  1989-Bush.txt\n",
      "There are 9391 unique words in  1993-Clinton.txt\n",
      "There are 9492 unique words in  1997-Clinton.txt\n",
      "There are 9552 unique words in  2001-Bush.txt\n",
      "There are 9649 unique words in  2005-Bush.txt\n",
      "There are 9754 unique words in  2009-Obama.txt\n"
     ]
    }
   ],
   "source": [
    "count = []\n",
    "for ids in inaugural.fileids():\n",
    "    temp = inaugural.words(ids)\n",
    "    for w in temp:\n",
    "        if w not in count:\n",
    "            count.append(w)\n",
    "        \n",
    "            \n",
    "    print(\"There are\",len(count),\"unique words in \",ids)"
   ]
  },
  {
   "cell_type": "code",
   "execution_count": 29,
   "metadata": {
    "collapsed": false
   },
   "outputs": [
    {
     "ename": "TypeError",
     "evalue": "readme() takes 1 positional argument but 2 were given",
     "output_type": "error",
     "traceback": [
      "\u001b[0;31m---------------------------------------------------------------------------\u001b[0m",
      "\u001b[0;31mTypeError\u001b[0m                                 Traceback (most recent call last)",
      "\u001b[0;32m<ipython-input-29-e166fe7543ba>\u001b[0m in \u001b[0;36m<module>\u001b[0;34m()\u001b[0m\n\u001b[0;32m----> 1\u001b[0;31m \u001b[0minaugural\u001b[0m\u001b[0;34m.\u001b[0m\u001b[0mreadme\u001b[0m\u001b[0;34m(\u001b[0m\u001b[0;34m'1789-Washington.txt'\u001b[0m\u001b[0;34m)\u001b[0m\u001b[0;34m\u001b[0m\u001b[0m\n\u001b[0m",
      "\u001b[0;31mTypeError\u001b[0m: readme() takes 1 positional argument but 2 were given"
     ]
    }
   ],
   "source": [
    "inaugural.readme('1789-Washington.txt')"
   ]
  },
  {
   "cell_type": "code",
   "execution_count": null,
   "metadata": {
    "collapsed": true
   },
   "outputs": [],
   "source": []
  }
 ],
 "metadata": {
  "anaconda-cloud": {},
  "kernelspec": {
   "display_name": "Python [conda root]",
   "language": "python",
   "name": "conda-root-py"
  },
  "language_info": {
   "codemirror_mode": {
    "name": "ipython",
    "version": 3
   },
   "file_extension": ".py",
   "mimetype": "text/x-python",
   "name": "python",
   "nbconvert_exporter": "python",
   "pygments_lexer": "ipython3",
   "version": "3.5.2"
  }
 },
 "nbformat": 4,
 "nbformat_minor": 1
}
