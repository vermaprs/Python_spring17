{
 "cells": [
  {
   "cell_type": "markdown",
   "metadata": {},
   "source": [
    "# Question 1"
   ]
  },
  {
   "cell_type": "markdown",
   "metadata": {},
   "source": [
    "1. Find out how many words and how many unique words in file 'austen-persuasion.txt'.                                       \n",
    "2. Calculate the frequency for each words and show the top 10 most frequent words and their frequency.\n",
    "3. Try NOT to use FreqDist module.\n",
    "4. Keep the punctuation and stop words in this question."
   ]
  },
  {
   "cell_type": "code",
   "execution_count": 1,
   "metadata": {
    "collapsed": false
   },
   "outputs": [
    {
     "data": {
      "text/plain": [
       "['austen-emma.txt',\n",
       " 'austen-persuasion.txt',\n",
       " 'austen-sense.txt',\n",
       " 'bible-kjv.txt',\n",
       " 'blake-poems.txt',\n",
       " 'bryant-stories.txt',\n",
       " 'burgess-busterbrown.txt',\n",
       " 'carroll-alice.txt',\n",
       " 'chesterton-ball.txt',\n",
       " 'chesterton-brown.txt',\n",
       " 'chesterton-thursday.txt',\n",
       " 'edgeworth-parents.txt',\n",
       " 'melville-moby_dick.txt',\n",
       " 'milton-paradise.txt',\n",
       " 'shakespeare-caesar.txt',\n",
       " 'shakespeare-hamlet.txt',\n",
       " 'shakespeare-macbeth.txt',\n",
       " 'whitman-leaves.txt']"
      ]
     },
     "execution_count": 1,
     "metadata": {},
     "output_type": "execute_result"
    }
   ],
   "source": [
    "import nltk\n",
    "nltk.corpus.gutenberg.fileids() #files in gutenberg package"
   ]
  },
  {
   "cell_type": "code",
   "execution_count": 2,
   "metadata": {
    "collapsed": false
   },
   "outputs": [
    {
     "data": {
      "text/plain": [
       "98171"
      ]
     },
     "execution_count": 2,
     "metadata": {},
     "output_type": "execute_result"
    }
   ],
   "source": [
    "total_words = nltk.corpus.gutenberg.words('austen-persuasion.txt')\n",
    "len(total_words)  #Total words"
   ]
  },
  {
   "cell_type": "code",
   "execution_count": 29,
   "metadata": {
    "collapsed": false
   },
   "outputs": [
    {
     "data": {
      "text/plain": [
       "5835"
      ]
     },
     "execution_count": 29,
     "metadata": {},
     "output_type": "execute_result"
    }
   ],
   "source": [
    "set_unique_words = []\n",
    "set_words = set(total_words)\n",
    "\n",
    "for w in set_words:\n",
    "    if w.lower() not in set_unique_words: # removing \n",
    "        set_unique_words.append(w.lower())\n",
    "    \n",
    "len(set_unique_words)  #Total Unique words"
   ]
  },
  {
   "cell_type": "code",
   "execution_count": 28,
   "metadata": {
    "collapsed": false
   },
   "outputs": [
    {
     "name": "stdout",
     "output_type": "stream",
     "text": [
      "[6750, 3329, 2808, 2801, 2741, 2570, 1595, 1389, 1337, 1290]\n"
     ]
    }
   ],
   "source": [
    "all_words = []\n",
    "for wrd in total_words:    #convert all words to lower case\n",
    "    w = wrd.lower()\n",
    "    all_words.append(w)\n",
    "       \n",
    "#print(all_words)     \n",
    "\n",
    "\n",
    "count_List = []\n",
    "\n",
    "for w in set_unique_words:\n",
    "    count_List.append(all_words.count(w))  # count frequency for each word\n",
    "    \n",
    "    \n",
    "count_List.sort()      # sort frequency list in ascending order\n",
    "count_List.reverse()   # sort frequency list in descending order\n",
    "final_count = count_List[:10]  #top 10 counts\n",
    "print(final_count)    "
   ]
  },
  {
   "cell_type": "code",
   "execution_count": 27,
   "metadata": {
    "collapsed": false
   },
   "outputs": [
    {
     "name": "stdout",
     "output_type": "stream",
     "text": [
      "(; -> 6750)\n",
      "(and -> 3329)\n",
      "(in -> 2808)\n",
      "(of -> 2801)\n",
      "(was -> 2741)\n",
      "(a -> 2570)\n",
      "(. -> 1595)\n",
      "(to -> 1389)\n",
      "(the -> 1337)\n",
      "(, -> 1290)\n"
     ]
    }
   ],
   "source": [
    "words_sorted = []\n",
    "for w in set_unique_words:\n",
    "    for num in range(10):\n",
    "        if all_words.count(w) == final_count[num]: # check which matches the frequency of top 10\n",
    "            words_sorted.append(w)                 # add those top words to the list\n",
    "            \n",
    "for i in range(10):\n",
    "    print(\"(%s -> %d)\" % (words_sorted[i] , count_List[i]))"
   ]
  },
  {
   "cell_type": "code",
   "execution_count": null,
   "metadata": {
    "collapsed": true
   },
   "outputs": [],
   "source": []
  }
 ],
 "metadata": {
  "anaconda-cloud": {},
  "kernelspec": {
   "display_name": "Python [default]",
   "language": "python",
   "name": "python3"
  },
  "language_info": {
   "codemirror_mode": {
    "name": "ipython",
    "version": 3
   },
   "file_extension": ".py",
   "mimetype": "text/x-python",
   "name": "python",
   "nbconvert_exporter": "python",
   "pygments_lexer": "ipython3",
   "version": "3.5.2"
  }
 },
 "nbformat": 4,
 "nbformat_minor": 1
}
