{
 "cells": [
  {
   "cell_type": "markdown",
   "metadata": {},
   "source": [
    "# Question 4"
   ]
  },
  {
   "cell_type": "markdown",
   "metadata": {},
   "source": [
    "1. Under package nps_chat, see what files are in it.\n",
    "2. Find 'user121' and see how many posts he posted in all.\n",
    "3. Find out how many unique user in each age range group. (20s, 30s,...)(Hint: files' name)\n"
   ]
  },
  {
   "cell_type": "code",
   "execution_count": 28,
   "metadata": {
    "collapsed": false
   },
   "outputs": [
    {
     "data": {
      "text/plain": [
       "['10-19-20s_706posts.xml',\n",
       " '10-19-30s_705posts.xml',\n",
       " '10-19-40s_686posts.xml',\n",
       " '10-19-adults_706posts.xml',\n",
       " '10-24-40s_706posts.xml',\n",
       " '10-26-teens_706posts.xml',\n",
       " '11-06-adults_706posts.xml',\n",
       " '11-08-20s_705posts.xml',\n",
       " '11-08-40s_706posts.xml',\n",
       " '11-08-adults_705posts.xml',\n",
       " '11-08-teens_706posts.xml',\n",
       " '11-09-20s_706posts.xml',\n",
       " '11-09-40s_706posts.xml',\n",
       " '11-09-adults_706posts.xml',\n",
       " '11-09-teens_706posts.xml']"
      ]
     },
     "execution_count": 28,
     "metadata": {},
     "output_type": "execute_result"
    }
   ],
   "source": [
    "from nltk.corpus import nps_chat\n",
    "nps_chat.fileids()"
   ]
  },
  {
   "cell_type": "code",
   "execution_count": 79,
   "metadata": {
    "collapsed": false
   },
   "outputs": [
    {
     "data": {
      "text/plain": [
       "'<!-- edited with XMLSpy v2007 sp1 (http://www.altova.com) by Eric Forsyth (Naval Postgraduate School) -->\\n<Session xmlns:xsi=\"http://www.w3.org/2001/XMLSchema-instance\" xsi:noNamespaceSchemaLocation=\"'"
      ]
     },
     "execution_count": 79,
     "metadata": {},
     "output_type": "execute_result"
    }
   ],
   "source": [
    "nps_chat.raw(\"10-19-20s_706posts.xml\")[:200]"
   ]
  },
  {
   "cell_type": "code",
   "execution_count": 74,
   "metadata": {
    "collapsed": false
   },
   "outputs": [
    {
     "name": "stdout",
     "output_type": "stream",
     "text": [
      "['10-19-20s_706posts.xml', '10-19-30s_705posts.xml', '10-19-40s_686posts.xml', '10-19-adults_706posts.xml', '10-24-40s_706posts.xml', '10-26-teens_706posts.xml', '11-06-adults_706posts.xml', '11-08-20s_705posts.xml', '11-08-40s_706posts.xml', '11-08-adults_705posts.xml', '11-08-teens_706posts.xml', '11-09-20s_706posts.xml', '11-09-40s_706posts.xml', '11-09-adults_706posts.xml', '11-09-teens_706posts.xml']\n",
      "204\n"
     ]
    }
   ],
   "source": [
    "#user = ['user=\"10-19-20sUser121\"','user=\"11-08-20sUser121\"']\n",
    "user = 'User121'\n",
    "files = []\n",
    "for xml in nps_chat.fileids():\n",
    "    files.append(xml)\n",
    "       \n",
    "print(files)     \n",
    "\n",
    "count=0\n",
    "for xml in files:\n",
    "    \n",
    "        file = nps_chat.raw(str(xml))\n",
    "        count+=file.count(user) \n",
    "        \n",
    "print(count)        "
   ]
  },
  {
   "cell_type": "code",
   "execution_count": 91,
   "metadata": {
    "collapsed": false
   },
   "outputs": [
    {
     "name": "stdout",
     "output_type": "stream",
     "text": [
      "Total Number of posts by 'User121' are: 132\n"
     ]
    }
   ],
   "source": [
    "user = ['user=\"10-19-20sUser121\"','user=\"10-19-30sUser121\"','user=\"10-19-40sUser121\"','user=\"10-19-adultsUser121\"','user=\"10-24-40sUser121\"','user=\"10-26-teensUser121\"','user=\"11-06-adultsUser121\"','user=\"11-08-20sUser121\"','user=\"11-08-40sUser121\"','user=\"11-08-adultsUser121\"','user=\"11-08-teensUser121\"','user=\"11-09-20sUser121\"','user=\"11-09-40sUser121\"','user=\"11-09-adultsUser121\"','user=\"11-09-teensUser121\"']\n",
    "\n",
    "files = []\n",
    "for xml in nps_chat.fileids():\n",
    "    files.append(xml)     \n",
    "\n",
    "count=0\n",
    "for xml in files:\n",
    "    for u in user:\n",
    "        file = nps_chat.raw(str(xml))\n",
    "        count+=file.count(str(u)) \n",
    "        \n",
    "print(\"Total Number of posts by 'User121' are:\",count)"
   ]
  },
  {
   "cell_type": "code",
   "execution_count": 154,
   "metadata": {
    "collapsed": false
   },
   "outputs": [
    {
     "name": "stdout",
     "output_type": "stream",
     "text": [
      "0\n",
      "teens\n",
      "0\n",
      "20s\n",
      "0\n",
      "30s\n",
      "0\n",
      "40s\n",
      "0\n",
      "adults\n"
     ]
    }
   ],
   "source": [
    "age_group = ['teens','20s','30s','40s','adults']\n",
    "\n",
    "files = []\n",
    "for xml in nps_chat.fileids():\n",
    "    files.append(xml)     \n",
    "users = []\n",
    "\n",
    "for grp in age_group:\n",
    "    counts=[]\n",
    "    for xml in files:\n",
    "        file = nps_chat.raw(str(xml))\n",
    "        for user in file:\n",
    "            if user.startswith('user=\"'):\n",
    "                if user not in users:\n",
    "                    usercount = file.count(str(user))\n",
    "                    counts.append(usercount)\n",
    "                        \n",
    "    print(len(counts))               \n",
    "                          \n",
    "    print(grp)\n",
    "        "
   ]
  },
  {
   "cell_type": "code",
   "execution_count": null,
   "metadata": {
    "collapsed": true
   },
   "outputs": [],
   "source": [
    "age_group = ['teens','20s','30s','40s','adults']\n",
    "count=[]\n",
    "for grp in age_group:\n",
    "    users = []\n",
    "    for xml in nps_chat.fileids():\n",
    "        count = 0\n",
    "        \n",
    "        if grp in xml:\n",
    "            for word in nps_chat.raw(str(xml)):\n",
    "                if word.startswith('user=\"'):\n",
    "                    if word not in files:\n",
    "                        users.append(word)\n",
    "                        \n",
    "                    count.append(len(users))\n",
    "                        \n",
    "                       \n",
    "    print(grp)        "
   ]
  },
  {
   "cell_type": "code",
   "execution_count": null,
   "metadata": {
    "collapsed": true
   },
   "outputs": [],
   "source": []
  }
 ],
 "metadata": {
  "anaconda-cloud": {},
  "kernelspec": {
   "display_name": "Python [conda root]",
   "language": "python",
   "name": "conda-root-py"
  },
  "language_info": {
   "codemirror_mode": {
    "name": "ipython",
    "version": 3
   },
   "file_extension": ".py",
   "mimetype": "text/x-python",
   "name": "python",
   "nbconvert_exporter": "python",
   "pygments_lexer": "ipython3",
   "version": "3.5.2"
  }
 },
 "nbformat": 4,
 "nbformat_minor": 1
}
