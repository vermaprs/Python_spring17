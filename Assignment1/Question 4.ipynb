{
 "cells": [
  {
   "cell_type": "markdown",
   "metadata": {},
   "source": [
    "# Question 4"
   ]
  },
  {
   "cell_type": "markdown",
   "metadata": {},
   "source": [
    "1. Under package nps_chat, see what files are in it.\n",
    "2. Find 'user121' and see how many posts he posted in all.\n",
    "3. Find out how many unique user in each age range group. (20s, 30s,...)(Hint: files' name)\n"
   ]
  },
  {
   "cell_type": "code",
   "execution_count": 19,
   "metadata": {
    "collapsed": false
   },
   "outputs": [
    {
     "data": {
      "text/plain": [
       "['10-19-20s_706posts.xml',\n",
       " '10-19-30s_705posts.xml',\n",
       " '10-19-40s_686posts.xml',\n",
       " '10-19-adults_706posts.xml',\n",
       " '10-24-40s_706posts.xml',\n",
       " '10-26-teens_706posts.xml',\n",
       " '11-06-adults_706posts.xml',\n",
       " '11-08-20s_705posts.xml',\n",
       " '11-08-40s_706posts.xml',\n",
       " '11-08-adults_705posts.xml',\n",
       " '11-08-teens_706posts.xml',\n",
       " '11-09-20s_706posts.xml',\n",
       " '11-09-40s_706posts.xml',\n",
       " '11-09-adults_706posts.xml',\n",
       " '11-09-teens_706posts.xml']"
      ]
     },
     "execution_count": 19,
     "metadata": {},
     "output_type": "execute_result"
    }
   ],
   "source": [
    "from nltk.corpus import nps_chat\n",
    "nps_chat.fileids()"
   ]
  },
  {
   "cell_type": "code",
   "execution_count": 4,
   "metadata": {
    "collapsed": false
   },
   "outputs": [],
   "source": [
    "file = set([xml for xml in nps_chat.raw if word in emma]))\n",
    "count([file for file in s if u in user])"
   ]
  },
  {
   "cell_type": "code",
   "execution_count": 55,
   "metadata": {
    "collapsed": false
   },
   "outputs": [
    {
     "name": "stdout",
     "output_type": "stream",
     "text": [
      "10-19-20s_706posts.xml\n",
      "0\n",
      "10-19-20s_706posts.xml\n",
      "0\n",
      "10-19-30s_705posts.xml\n",
      "0\n",
      "10-19-30s_705posts.xml\n",
      "0\n",
      "10-19-40s_686posts.xml\n",
      "0\n",
      "10-19-40s_686posts.xml\n",
      "0\n",
      "10-19-adults_706posts.xml\n",
      "0\n",
      "10-19-adults_706posts.xml\n",
      "0\n",
      "10-24-40s_706posts.xml\n",
      "0\n",
      "10-24-40s_706posts.xml\n",
      "0\n",
      "10-26-teens_706posts.xml\n",
      "0\n",
      "10-26-teens_706posts.xml\n",
      "0\n",
      "11-06-adults_706posts.xml\n",
      "0\n",
      "11-06-adults_706posts.xml\n",
      "0\n",
      "11-08-20s_705posts.xml\n",
      "0\n",
      "11-08-20s_705posts.xml\n",
      "0\n",
      "11-08-40s_706posts.xml\n",
      "0\n",
      "11-08-40s_706posts.xml\n",
      "0\n",
      "11-08-adults_705posts.xml\n",
      "0\n",
      "11-08-adults_705posts.xml\n",
      "0\n",
      "11-08-teens_706posts.xml\n",
      "0\n",
      "11-08-teens_706posts.xml\n",
      "0\n",
      "11-09-20s_706posts.xml\n",
      "0\n",
      "11-09-20s_706posts.xml\n",
      "0\n",
      "11-09-40s_706posts.xml\n",
      "0\n",
      "11-09-40s_706posts.xml\n",
      "0\n",
      "11-09-adults_706posts.xml\n",
      "0\n",
      "11-09-adults_706posts.xml\n",
      "0\n",
      "11-09-teens_706posts.xml\n",
      "0\n",
      "11-09-teens_706posts.xml\n",
      "0\n",
      "0\n"
     ]
    }
   ],
   "source": [
    "user = ['user=\"10-19-30sUser121\"','user=\"10-19-40sUser121\"']\n",
    "\n",
    "for xml in nps_chat.fileids():\n",
    "     \n",
    "    file = nps_chat.raw(xml)\n",
    "   \n",
    "    for u in user:\n",
    "        print(xml)\n",
    "        count += file.count(u)\n",
    "        print(count)\n",
    "        \n",
    "print(count)            \n"
   ]
  },
  {
   "cell_type": "code",
   "execution_count": null,
   "metadata": {
    "collapsed": true
   },
   "outputs": [],
   "source": [
    "for file in nps_chat.raw(xml+\"\")\n",
    "    \n",
    "        for u in user:\n",
    "            count += xml.count(u)\n",
    "        \n",
    "print(count)        \n",
    "    "
   ]
  },
  {
   "cell_type": "code",
   "execution_count": null,
   "metadata": {
    "collapsed": true
   },
   "outputs": [],
   "source": []
  }
 ],
 "metadata": {
  "anaconda-cloud": {},
  "kernelspec": {
   "display_name": "Python [conda root]",
   "language": "python",
   "name": "conda-root-py"
  },
  "language_info": {
   "codemirror_mode": {
    "name": "ipython",
    "version": 3
   },
   "file_extension": ".py",
   "mimetype": "text/x-python",
   "name": "python",
   "nbconvert_exporter": "python",
   "pygments_lexer": "ipython3",
   "version": "3.5.2"
  }
 },
 "nbformat": 4,
 "nbformat_minor": 1
}
