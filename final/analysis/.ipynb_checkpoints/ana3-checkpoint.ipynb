{
 "cells": [
  {
   "cell_type": "markdown",
   "metadata": {},
   "source": [
    "# Analysis 3 - Monthly Distribution of Total Headlines over last 5 years"
   ]
  },
  {
   "cell_type": "code",
   "execution_count": null,
   "metadata": {
    "collapsed": true
   },
   "outputs": [],
   "source": []
  },
  {
   "cell_type": "markdown",
   "metadata": {},
   "source": [
    "# create files, fetch json data from url and load json data into files"
   ]
  },
  {
   "cell_type": "code",
   "execution_count": 2,
   "metadata": {
    "collapsed": true
   },
   "outputs": [],
   "source": [
    "import os\n",
    "years = ['2012','2013','2014','2015','2016']\n",
    "dataDir = '/Users/prashantverma/Documents/Python/final/data/'"
   ]
  },
  {
   "cell_type": "markdown",
   "metadata": {},
   "source": [
    "# function to count  Number of headlines in a month"
   ]
  },
  {
   "cell_type": "code",
   "execution_count": 3,
   "metadata": {
    "collapsed": true
   },
   "outputs": [],
   "source": [
    "def getHeadlineFreq (file):\n",
    "    snippets = []\n",
    "    with open(file) as infile:\n",
    "        data = json.load(infile)\n",
    "        lenth = len(data['response']['docs'])\n",
    "        for i in range(lenth):\n",
    "            snippets.append(data['response']['docs'][i]['snippet'])\n",
    "    \n",
    "    \n",
    "    count = 0\n",
    "    for snippet in snippets:\n",
    "        count += 1\n",
    "    \n",
    "    return count"
   ]
  },
  {
   "cell_type": "markdown",
   "metadata": {},
   "source": []
  },
  {
   "cell_type": "code",
   "execution_count": 38,
   "metadata": {
    "collapsed": false
   },
   "outputs": [
    {
     "data": {
      "text/plain": [
       "[('2012',\n",
       "  14339,\n",
       "  11002,\n",
       "  9726,\n",
       "  8982,\n",
       "  12057,\n",
       "  8991,\n",
       "  8440,\n",
       "  8705,\n",
       "  8889,\n",
       "  9117,\n",
       "  8408,\n",
       "  7895),\n",
       " ('2013',\n",
       "  8412,\n",
       "  8032,\n",
       "  8590,\n",
       "  8001,\n",
       "  8275,\n",
       "  7968,\n",
       "  7259,\n",
       "  7050,\n",
       "  7976,\n",
       "  8249,\n",
       "  7735,\n",
       "  7599),\n",
       " ('2014',\n",
       "  7968,\n",
       "  7742,\n",
       "  8088,\n",
       "  7765,\n",
       "  8026,\n",
       "  8157,\n",
       "  7405,\n",
       "  7080,\n",
       "  8212,\n",
       "  8403,\n",
       "  7566,\n",
       "  7375)]"
      ]
     },
     "execution_count": 38,
     "metadata": {},
     "output_type": "execute_result"
    }
   ],
   "source": [
    "import requests,json\n",
    "import glob\n",
    "import datetime\n",
    "\n",
    "Jan, Feb, Mar, Apr, May, Jun, Jul, Aug, Sep, Oct, Nov, Dec = ([] for i in range(12))\n",
    "\n",
    "for year in years:\n",
    "\n",
    "    files = glob.glob(dataDir+'/'+year+'/*.json')\n",
    "    \n",
    "    for file in files:\n",
    "        fileName = file.split('/')[9]\n",
    "        number = fileName.split('.')[0].split('-')[0]\n",
    "        month = datetime.datetime.strptime(str(number),'%m').strftime('%d/%b/%Y').split('/')[1]\n",
    "        count = getHeadlineFreq(file)\n",
    "        \n",
    "        if number == '1':\n",
    "            Jan.append(count)\n",
    "        elif number == '2':\n",
    "            Feb.append(count)\n",
    "        elif number == '3':\n",
    "            Mar.append(count)\n",
    "        elif number == '4':\n",
    "            Apr.append(count)\n",
    "        elif number == '5':\n",
    "            May.append(count)\n",
    "        elif number == '6':\n",
    "            Jun.append(count)\n",
    "        elif number == '7':\n",
    "            Jul.append(count)\n",
    "        elif number == '8':\n",
    "            Aug.append(count)\n",
    "        elif number == '9':\n",
    "            Sep.append(count)\n",
    "        elif number == '10':\n",
    "            Oct.append(count)\n",
    "        elif number == '11':\n",
    "            Nov.append(count)\n",
    "        elif number == '12':\n",
    "            Dec.append(count)\n",
    "            \n",
    "\n",
    "freqList = zip(years, Jan, Feb, Mar, Apr, May, Jun, Jul, Aug, Sep, Oct, Nov, Dec)\n",
    "freqList = list(freqList)\n",
    "        "
   ]
  },
  {
   "cell_type": "markdown",
   "metadata": {},
   "source": [
    "# import output to csv file"
   ]
  },
  {
   "cell_type": "code",
   "execution_count": 41,
   "metadata": {
    "collapsed": true
   },
   "outputs": [],
   "source": [
    "import csv\n",
    "with open('ana3/Output.csv','w') as csvfile:\n",
    "    writer = csv.writer(csvfile)\n",
    "    writer.writerow([\"Year\",\"Jan\", \"Feb\", \"Mar\", \"Apr\", \"May\", \"Jun\", \"Jul\", \"Aug\", \"Sep\", \"Oct\", \"Nov\", \"Dec\"])\n",
    "    writer.writerows(freqList)"
   ]
  },
  {
   "cell_type": "markdown",
   "metadata": {},
   "source": [
    "# load csv data as dataframe"
   ]
  },
  {
   "cell_type": "code",
   "execution_count": 48,
   "metadata": {
    "collapsed": false
   },
   "outputs": [
    {
     "data": {
      "text/html": [
       "<div>\n",
       "<table border=\"1\" class=\"dataframe\">\n",
       "  <thead>\n",
       "    <tr style=\"text-align: right;\">\n",
       "      <th></th>\n",
       "      <th>Year</th>\n",
       "      <th>Jan</th>\n",
       "      <th>Feb</th>\n",
       "      <th>Mar</th>\n",
       "      <th>Apr</th>\n",
       "      <th>May</th>\n",
       "      <th>Jun</th>\n",
       "      <th>Jul</th>\n",
       "      <th>Aug</th>\n",
       "      <th>Sep</th>\n",
       "      <th>Oct</th>\n",
       "      <th>Nov</th>\n",
       "      <th>Dec</th>\n",
       "    </tr>\n",
       "  </thead>\n",
       "  <tbody>\n",
       "    <tr>\n",
       "      <th>0</th>\n",
       "      <td>2012</td>\n",
       "      <td>14339</td>\n",
       "      <td>11002</td>\n",
       "      <td>9726</td>\n",
       "      <td>8982</td>\n",
       "      <td>12057</td>\n",
       "      <td>8991</td>\n",
       "      <td>8440</td>\n",
       "      <td>8705</td>\n",
       "      <td>8889</td>\n",
       "      <td>9117</td>\n",
       "      <td>8408</td>\n",
       "      <td>7895</td>\n",
       "    </tr>\n",
       "    <tr>\n",
       "      <th>1</th>\n",
       "      <td>2013</td>\n",
       "      <td>8412</td>\n",
       "      <td>8032</td>\n",
       "      <td>8590</td>\n",
       "      <td>8001</td>\n",
       "      <td>8275</td>\n",
       "      <td>7968</td>\n",
       "      <td>7259</td>\n",
       "      <td>7050</td>\n",
       "      <td>7976</td>\n",
       "      <td>8249</td>\n",
       "      <td>7735</td>\n",
       "      <td>7599</td>\n",
       "    </tr>\n",
       "    <tr>\n",
       "      <th>2</th>\n",
       "      <td>2014</td>\n",
       "      <td>7968</td>\n",
       "      <td>7742</td>\n",
       "      <td>8088</td>\n",
       "      <td>7765</td>\n",
       "      <td>8026</td>\n",
       "      <td>8157</td>\n",
       "      <td>7405</td>\n",
       "      <td>7080</td>\n",
       "      <td>8212</td>\n",
       "      <td>8403</td>\n",
       "      <td>7566</td>\n",
       "      <td>7375</td>\n",
       "    </tr>\n",
       "    <tr>\n",
       "      <th>3</th>\n",
       "      <td>2015</td>\n",
       "      <td>7207</td>\n",
       "      <td>6768</td>\n",
       "      <td>7078</td>\n",
       "      <td>7016</td>\n",
       "      <td>7260</td>\n",
       "      <td>7146</td>\n",
       "      <td>7101</td>\n",
       "      <td>6682</td>\n",
       "      <td>7575</td>\n",
       "      <td>7839</td>\n",
       "      <td>6524</td>\n",
       "      <td>6938</td>\n",
       "    </tr>\n",
       "    <tr>\n",
       "      <th>4</th>\n",
       "      <td>2016</td>\n",
       "      <td>7414</td>\n",
       "      <td>7026</td>\n",
       "      <td>7476</td>\n",
       "      <td>6502</td>\n",
       "      <td>6494</td>\n",
       "      <td>6454</td>\n",
       "      <td>6116</td>\n",
       "      <td>5268</td>\n",
       "      <td>5902</td>\n",
       "      <td>5796</td>\n",
       "      <td>5383</td>\n",
       "      <td>5073</td>\n",
       "    </tr>\n",
       "  </tbody>\n",
       "</table>\n",
       "</div>"
      ],
      "text/plain": [
       "   Year    Jan    Feb   Mar   Apr    May   Jun   Jul   Aug   Sep   Oct   Nov  \\\n",
       "0  2012  14339  11002  9726  8982  12057  8991  8440  8705  8889  9117  8408   \n",
       "1  2013   8412   8032  8590  8001   8275  7968  7259  7050  7976  8249  7735   \n",
       "2  2014   7968   7742  8088  7765   8026  8157  7405  7080  8212  8403  7566   \n",
       "3  2015   7207   6768  7078  7016   7260  7146  7101  6682  7575  7839  6524   \n",
       "4  2016   7414   7026  7476  6502   6494  6454  6116  5268  5902  5796  5383   \n",
       "\n",
       "    Dec  \n",
       "0  7895  \n",
       "1  7599  \n",
       "2  7375  \n",
       "3  6938  \n",
       "4  5073  "
      ]
     },
     "execution_count": 48,
     "metadata": {},
     "output_type": "execute_result"
    }
   ],
   "source": [
    "import pandas as pd\n",
    "df = pd.read_csv('ana3/Output.csv')\n",
    "df.head()"
   ]
  },
  {
   "cell_type": "markdown",
   "metadata": {},
   "source": [
    "# Plot bar graph using seaborn"
   ]
  },
  {
   "cell_type": "code",
   "execution_count": 49,
   "metadata": {
    "collapsed": true
   },
   "outputs": [],
   "source": [
    "import numpy as np\n",
    "import matplotlib.pyplot as plt\n",
    "import seaborn as sns"
   ]
  },
  {
   "cell_type": "markdown",
   "metadata": {},
   "source": [
    "# Monthly Distribution of Number of Total Headlines over last 5 yearas"
   ]
  },
  {
   "cell_type": "code",
   "execution_count": 50,
   "metadata": {
    "collapsed": false
   },
   "outputs": [
    {
     "name": "stdout",
     "output_type": "stream",
     "text": [
      "Populating the interactive namespace from numpy and matplotlib\n"
     ]
    },
    {
     "data": {
      "text/plain": [
       "<matplotlib.axes._subplots.AxesSubplot at 0x105a67630>"
      ]
     },
     "execution_count": 50,
     "metadata": {},
     "output_type": "execute_result"
    },
    {
     "data": {
      "image/png": "[encoded data removed]",
      "text/plain": [
       "<matplotlib.figure.Figure at 0x1052f2a20>"
      ]
     },
     "metadata": {},
     "output_type": "display_data"
    }
   ],
   "source": [
    "% pylab inline\n",
    "df.plot.bar(x='Year')"
   ]
  },
  {
   "cell_type": "code",
   "execution_count": null,
   "metadata": {
    "collapsed": true
   },
   "outputs": [],
   "source": []
  }
 ],
 "metadata": {
  "anaconda-cloud": {},
  "kernelspec": {
   "display_name": "Python [conda root]",
   "language": "python",
   "name": "conda-root-py"
  },
  "language_info": {
   "codemirror_mode": {
    "name": "ipython",
    "version": 3
   },
   "file_extension": ".py",
   "mimetype": "text/x-python",
   "name": "python",
   "nbconvert_exporter": "python",
   "pygments_lexer": "ipython3",
   "version": "3.5.2"
  }
 },
 "nbformat": 4,
 "nbformat_minor": 1
}
