{
 "cells": [
  {
   "cell_type": "markdown",
   "metadata": {},
   "source": [
    "# Collect and store data"
   ]
  },
  {
   "cell_type": "code",
   "execution_count": 5,
   "metadata": {
    "collapsed": false
   },
   "outputs": [],
   "source": [
    "import requests,json\n",
    "import os\n",
    "nytimes_key = os.getenv(\"api_key\")\n",
    "ny = os.environ"
   ]
  },
  {
   "cell_type": "code",
   "execution_count": 7,
   "metadata": {
    "collapsed": false
   },
   "outputs": [],
   "source": [
    "mainDir = '/Users/prashantverma/Documents/Python/final/data/'\n",
    "\n",
    "years = ['2012','2013','2014','2015','2016']\n",
    "months = ['1','2','3','4','5','6','7','8','9','10','11','12']\n",
    "\n",
    "\n",
    "for year in years:\n",
    "     \n",
    "    \n",
    "    dataDir = os.path.join(mainDir,year)\n",
    "    os.makedirs(dataDir)\n",
    "    \n",
    "    for mon in months:\n",
    "        month = str(mon) +'-'+year\n",
    "        url = 'https://api.nytimes.com/svc/archive/v1/'+year+'/'+mon+'.json?api-key='+str(nytimes_key)\n",
    "        data = requests.get(url)\n",
    "        resp = data.json()\n",
    "        os.chdir(dataDir+'/')\n",
    "        with open(month+'.json','w') as jsonFile:\n",
    "            json.dump(resp,jsonFile)"
   ]
  },
  {
   "cell_type": "code",
   "execution_count": null,
   "metadata": {
    "collapsed": false
   },
   "outputs": [],
   "source": []
  },
  {
   "cell_type": "code",
   "execution_count": 2,
   "metadata": {
    "collapsed": true
   },
   "outputs": [],
   "source": []
  },
  {
   "cell_type": "code",
   "execution_count": null,
   "metadata": {
    "collapsed": true
   },
   "outputs": [],
   "source": []
  }
 ],
 "metadata": {
  "anaconda-cloud": {},
  "kernelspec": {
   "display_name": "Python [conda root]",
   "language": "python",
   "name": "conda-root-py"
  },
  "language_info": {
   "codemirror_mode": {
    "name": "ipython",
    "version": 3
   },
   "file_extension": ".py",
   "mimetype": "text/x-python",
   "name": "python",
   "nbconvert_exporter": "python",
   "pygments_lexer": "ipython3",
   "version": "3.5.2"
  }
 },
 "nbformat": 4,
 "nbformat_minor": 1
}
