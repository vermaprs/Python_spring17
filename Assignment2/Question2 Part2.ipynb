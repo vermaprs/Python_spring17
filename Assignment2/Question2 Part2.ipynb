{
 "cells": [
  {
   "cell_type": "markdown",
   "metadata": {},
   "source": [
    "# Question2 Part2"
   ]
  },
  {
   "cell_type": "markdown",
   "metadata": {},
   "source": [
    "1. Read all the json files in the folder called Data.\n",
    "2. Read only the json files which contain the key called “restaurants” files\n",
    "3. Each (or most of the json files) contain a key called “open” which contains the details of the operation (timings). For each of the operation (timings) restaurants. For each json file, read the timings of file, read the timings of restaurants.\n",
    "4. Data of the operation timings restaurants is present for each day week. I Data of the operation timings restaurants is present for each day week. I want you to extract each of this data and write it in an excel sheet.\n",
    "5. Example - For a particular restaurant named “The Coffee Grounds”, the excel sheet should look For a particular restaurant named “The Coffee Grounds”, the excel sheet should look For a particular restaurant named “The Coffee Grounds”, the excel sheet should look For a particular restaurant named “The Coffee Grounds”, the excel sheet should look For a particular restaurant named “The Coffee Grounds”, the excel sheet should look like this:"
   ]
  },
  {
   "cell_type": "code",
   "execution_count": 5,
   "metadata": {
    "collapsed": true
   },
   "outputs": [],
   "source": [
    "import json\n",
    "import os\n",
    "import csv\n",
    "import datetime"
   ]
  },
  {
   "cell_type": "code",
   "execution_count": 20,
   "metadata": {
    "collapsed": false
   },
   "outputs": [
    {
     "data": {
      "text/plain": [
       "[('1-abercrombie-lane-sydney', 'Sydney', 'AU', 0, '07', '30', '15', '30'),\n",
       " ('1-abercrombie-lane-sydney', 'Sydney', 'AU', 1, '07', '30', '15', '30'),\n",
       " ('1-abercrombie-lane-sydney', 'Sydney', 'AU', 2, '07', '30', '15', '30'),\n",
       " ('1-abercrombie-lane-sydney', 'Sydney', 'AU', 3, '07', '30', '15', '30'),\n",
       " ('1-abercrombie-lane-sydney', 'Sydney', 'AU', 4, '07', '30', '15', '30')]"
      ]
     },
     "execution_count": 20,
     "metadata": {},
     "output_type": "execute_result"
    }
   ],
   "source": [
    "import glob\n",
    "\n",
    "files = glob.glob('/Users/prashantverma/Documents/PythonCopy/Data/*.json')\n",
    "\n",
    "name = []\n",
    "city = []\n",
    "country = []\n",
    "day = []\n",
    "startTimeHour = []\n",
    "startTimeMinute = []\n",
    "endTimeHour = []\n",
    "endTimeMinute = []\n",
    "\n",
    "\n",
    "for file in files:\n",
    "    if file.endswith('.json'): \n",
    "        with open(file) as loadFile:\n",
    "            data= json.load(loadFile)\n",
    "                \n",
    "            if data[\"term\"] == \"restaurants\":\n",
    "                if \"hours\" in data.keys():\n",
    "                    openHours=data[\"hours\"][0][\"open\"] \n",
    "                        \n",
    "                    for i in range(len(openHours)):\n",
    "                        name.append(data['id'])\n",
    "                        city.append(data['location']['city'])\n",
    "                        country.append(data['location']['country'])\n",
    "                        day.append(openHours[i]['day'])\n",
    "                        startTimeHour.append(openHours[i]['start'][:2])\n",
    "                        startTimeMinute.append(openHours[i]['start'][2:])\n",
    "                        endTimeHour.append(openHours[i]['end'][:2])\n",
    "                        endTimeMinute.append(openHours[i]['end'][2:])\n",
    "                        \n",
    "                    \n",
    "                    \n",
    "combine = zip(name,city,country,day,startTimeHour,startTimeMinute,endTimeHour,endTimeMinute)\n",
    "merge = list(combine)\n",
    "merge[:5]\n"
   ]
  },
  {
   "cell_type": "code",
   "execution_count": 23,
   "metadata": {
    "collapsed": false
   },
   "outputs": [],
   "source": [
    "with open('csv/schedule.csv','w') as csvfile:\n",
    "    writer = csv.writer(csvfile)\n",
    "    writer.writerow([\"Name of Restaurant\",\"City\",\"Country Code\",\"Day Of Week\",\"Start Time Hour\",\"Start Time Minute\",\"End Time Hour\",\"End Time Minute\"])\n",
    "    writer.writerows(merge)"
   ]
  },
  {
   "cell_type": "code",
   "execution_count": null,
   "metadata": {
    "collapsed": true
   },
   "outputs": [],
   "source": []
  }
 ],
 "metadata": {
  "anaconda-cloud": {},
  "kernelspec": {
   "display_name": "Python [conda root]",
   "language": "python",
   "name": "conda-root-py"
  },
  "language_info": {
   "codemirror_mode": {
    "name": "ipython",
    "version": 3
   },
   "file_extension": ".py",
   "mimetype": "text/x-python",
   "name": "python",
   "nbconvert_exporter": "python",
   "pygments_lexer": "ipython3",
   "version": "3.5.2"
  }
 },
 "nbformat": 4,
 "nbformat_minor": 1
}
