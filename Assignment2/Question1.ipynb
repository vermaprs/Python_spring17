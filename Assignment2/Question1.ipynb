{
 "cells": [
  {
   "cell_type": "markdown",
   "metadata": {},
   "source": [
    "# Question 1"
   ]
  },
  {
   "cell_type": "markdown",
   "metadata": {},
   "source": [
    "1. Learn and understand Zipf’s Law\n",
    "2. Pick any file (or files) in NLTK package\n",
    "3. Prove if Zipf’s Law works in Natural Language or not.\n",
    "4. REQUIREMNTS: (Must Do) REQUIREMNTS\n",
    "     Use ’glob’ to open and read file. If multiple files use LOOP achieve. \n",
    "     Create at least one function and one lambda function.\n",
    "     Save your data as an CSV file contains (Word, Rank, Frequency) with TITLE and Sort it by RANK.\n",
    "     Open your CSV file, generate a log-log figure according to the data you saved.  \n",
    "     Write a conclusion at the end of your code base on figure."
   ]
  },
  {
   "cell_type": "code",
   "execution_count": 5,
   "metadata": {
    "collapsed": false
   },
   "outputs": [
    {
     "data": {
      "text/plain": [
       "['austen-emma.txt',\n",
       " 'austen-persuasion.txt',\n",
       " 'austen-sense.txt',\n",
       " 'bible-kjv.txt',\n",
       " 'blake-poems.txt',\n",
       " 'bryant-stories.txt',\n",
       " 'burgess-busterbrown.txt',\n",
       " 'carroll-alice.txt',\n",
       " 'chesterton-ball.txt',\n",
       " 'chesterton-brown.txt',\n",
       " 'chesterton-thursday.txt',\n",
       " 'edgeworth-parents.txt',\n",
       " 'melville-moby_dick.txt',\n",
       " 'milton-paradise.txt',\n",
       " 'shakespeare-caesar.txt',\n",
       " 'shakespeare-hamlet.txt',\n",
       " 'shakespeare-macbeth.txt',\n",
       " 'whitman-leaves.txt']"
      ]
     },
     "execution_count": 5,
     "metadata": {},
     "output_type": "execute_result"
    }
   ],
   "source": [
    "import nltk\n",
    "nltk.corpus.gutenberg.fileids()"
   ]
  },
  {
   "cell_type": "code",
   "execution_count": 6,
   "metadata": {
    "collapsed": false
   },
   "outputs": [
    {
     "data": {
      "text/plain": [
       "'[The Tragedie of Hamlet by William Shakespeare 1599]\\n\\n\\nActus Primus. Scoena Prima.\\n\\nEnter Barnardo a'"
      ]
     },
     "execution_count": 6,
     "metadata": {},
     "output_type": "execute_result"
    }
   ],
   "source": [
    "raw = nltk.corpus.gutenberg.raw('shakespeare-hamlet.txt')\n",
    "raw[:100]"
   ]
  },
  {
   "cell_type": "code",
   "execution_count": 7,
   "metadata": {
    "collapsed": false
   },
   "outputs": [],
   "source": [
    "output = open(r'/Users/prashantverma/Documents/Python/Assignment2/file2.txt' , 'w')"
   ]
  },
  {
   "cell_type": "code",
   "execution_count": 8,
   "metadata": {
    "collapsed": false
   },
   "outputs": [
    {
     "data": {
      "text/plain": [
       "162881"
      ]
     },
     "execution_count": 8,
     "metadata": {},
     "output_type": "execute_result"
    }
   ],
   "source": [
    "output.write(raw)"
   ]
  },
  {
   "cell_type": "code",
   "execution_count": 9,
   "metadata": {
    "collapsed": false
   },
   "outputs": [
    {
     "name": "stdout",
     "output_type": "stream",
     "text": [
      "['/Users/prashantverma/Documents/Python/Assignment2/file1.txt', '/Users/prashantverma/Documents/Python/Assignment2/file2.txt']\n"
     ]
    }
   ],
   "source": [
    "import glob\n",
    "files = glob.glob('/Users/prashantverma/Documents/Python/Assignment2/file?.txt')\n",
    "print(files)"
   ]
  },
  {
   "cell_type": "code",
   "execution_count": null,
   "metadata": {
    "collapsed": false
   },
   "outputs": [],
   "source": [
    "       "
   ]
  },
  {
   "cell_type": "code",
   "execution_count": 10,
   "metadata": {
    "collapsed": false
   },
   "outputs": [
    {
     "data": {
      "text/plain": [
       "['[the',\n",
       " 'tragedie',\n",
       " 'of',\n",
       " 'julius',\n",
       " 'caesar',\n",
       " 'by',\n",
       " 'william',\n",
       " 'shakespeare',\n",
       " '1599]',\n",
       " 'actus']"
      ]
     },
     "execution_count": 10,
     "metadata": {},
     "output_type": "execute_result"
    }
   ],
   "source": [
    "stop_words = ['0','1','2','3','4','5','6','7','8','9','~','`','!','@','#','$','%','^','&','*','(',')','-','_','=','+','\\\\','|','\"',\"'\",':',';','.','<',',','.','>','?','/','{','}','[',']']\n",
    "lower_words = []\n",
    "for file in files:\n",
    "    f = open(file, 'r') \n",
    "    for line in f:\n",
    "        for word in line.split():\n",
    "            if word not in stop_words:\n",
    "                lower_words.append(word.lower())\n",
    "                \n",
    "        \n",
    "lower_words[:10]"
   ]
  },
  {
   "cell_type": "code",
   "execution_count": 11,
   "metadata": {
    "collapsed": false
   },
   "outputs": [],
   "source": [
    "def func(lowerWords):\n",
    "\n",
    "    unique = set(lowerWords)\n",
    "    freq = []\n",
    "    words = []\n",
    "\n",
    "    for word in unique:\n",
    "        count = lowerWords.count(word)\n",
    "        freq.append(count)\n",
    "        words.append(word)\n",
    "    \n",
    "    zip1 = zip(unique,freq)\n",
    "    zip1 = list(zip1)\n",
    "    zip1[:15]\n",
    "    zip1.sort(key=lambda tup: tup[1], reverse = True)\n",
    "\n",
    "\n",
    "    word1 = []\n",
    "    rank1 = []\n",
    "    freq1 = []\n",
    "    \n",
    "    for i in range(len(unique)):\n",
    "        word1.append(zip1[i][0])\n",
    "        rank1.append(i+1)\n",
    "        freq1.append(zip1[i][1])\n",
    "\n",
    "    csvlist = zip(word1, rank1, freq1)\n",
    "    csvlist = list(csvlist)\n",
    "   \n",
    "\n",
    "    return csvlist"
   ]
  },
  {
   "cell_type": "code",
   "execution_count": 172,
   "metadata": {
    "collapsed": false
   },
   "outputs": [
    {
     "data": {
      "text/plain": [
       "[('the', 1, 1570),\n",
       " ('and', 2, 1487),\n",
       " ('to', 3, 1129),\n",
       " ('i', 4, 1028),\n",
       " ('of', 5, 956),\n",
       " ('you', 6, 784),\n",
       " ('a', 7, 755),\n",
       " ('my', 8, 708),\n",
       " ('that', 9, 612),\n",
       " ('in', 10, 597)]"
      ]
     },
     "execution_count": 172,
     "metadata": {},
     "output_type": "execute_result"
    }
   ],
   "source": [
    "list = func(lower_words)\n",
    "list[:10]"
   ]
  },
  {
   "cell_type": "code",
   "execution_count": null,
   "metadata": {
    "collapsed": false
   },
   "outputs": [],
   "source": [
    "unique = set(lower_words)\n",
    "freq = []\n",
    "words = []\n",
    "\n",
    "for word in unique:\n",
    "    count = lower_words.count(word)\n",
    "    freq.append(count)\n",
    "    words.append(word)\n",
    "    \n",
    "zip1 = zip(unique,freq)\n",
    "zip2 = list(zip1)\n",
    "zip2[:15]\n",
    "zip2.sort(key=lambda tup: tup[1], reverse = True)\n",
    "\n",
    "\n",
    "word1 = []\n",
    "rank1 = []\n",
    "freq1 = []\n",
    "for i in range(len(unique)):\n",
    "    word1.append(zip2[i][0])\n",
    "    rank1.append(i+1)\n",
    "    freq1.append(zip2[i][1])\n",
    "\n",
    "csvlist = zip(word1, rank1, freq1)\n",
    "csvlist = list(csvlist)\n",
    "csvlist[:10]\n"
   ]
  },
  {
   "cell_type": "code",
   "execution_count": 165,
   "metadata": {
    "collapsed": false
   },
   "outputs": [
    {
     "data": {
      "text/plain": [
       "[('the', 1, 1570),\n",
       " ('and', 2, 1487),\n",
       " ('to', 3, 1129),\n",
       " ('i', 4, 1028),\n",
       " ('of', 5, 956),\n",
       " ('you', 6, 784),\n",
       " ('a', 7, 755),\n",
       " ('my', 8, 708),\n",
       " ('that', 9, 612),\n",
       " ('in', 10, 597)]"
      ]
     },
     "execution_count": 165,
     "metadata": {},
     "output_type": "execute_result"
    }
   ],
   "source": [
    "word1 = []\n",
    "rank1 = []\n",
    "freq1 = []\n",
    "for i in range(len(unique)):\n",
    "    word1.append(zip2[i][0])\n",
    "    rank1.append(i+1)\n",
    "    freq1.append(zip2[i][1])\n",
    "\n",
    "zip4 = zip(word1, rank1, freq1)\n",
    "zip4 = list(zip4)\n",
    "zip4[:10]"
   ]
  },
  {
   "cell_type": "code",
   "execution_count": null,
   "metadata": {
    "collapsed": false
   },
   "outputs": [],
   "source": []
  },
  {
   "cell_type": "code",
   "execution_count": null,
   "metadata": {
    "collapsed": false
   },
   "outputs": [],
   "source": []
  },
  {
   "cell_type": "code",
   "execution_count": 25,
   "metadata": {
    "collapsed": false
   },
   "outputs": [],
   "source": [
    "import csv\n",
    "\n",
    "csvlist = func(lower_words)\n",
    "\n",
    "with open('csvfile.csv', 'w') as x:\n",
    "    lines = [x.decode('utf8').strip() for x in f.readlines()]\n",
    "    writer = csv.writer(x)\n",
    "    writer.writerow(['Word', 'Rank' , 'Frequency'])\n",
    "    writer.writerows(csvlist)"
   ]
  },
  {
   "cell_type": "code",
   "execution_count": null,
   "metadata": {
    "collapsed": false
   },
   "outputs": [],
   "source": []
  },
  {
   "cell_type": "code",
   "execution_count": 32,
   "metadata": {
    "collapsed": false
   },
   "outputs": [],
   "source": [
    "import pandas as pd\n",
    "from pandas import read_csv\n",
    "\n",
    "\n",
    "df = read_csv('csvfile.csv')"
   ]
  },
  {
   "cell_type": "code",
   "execution_count": 33,
   "metadata": {
    "collapsed": false
   },
   "outputs": [
    {
     "data": {
      "text/html": [
       "<div>\n",
       "<table border=\"1\" class=\"dataframe\">\n",
       "  <thead>\n",
       "    <tr style=\"text-align: right;\">\n",
       "      <th></th>\n",
       "      <th>Word</th>\n",
       "      <th>Rank</th>\n",
       "      <th>Frequency</th>\n",
       "    </tr>\n",
       "  </thead>\n",
       "  <tbody>\n",
       "    <tr>\n",
       "      <th>0</th>\n",
       "      <td>the</td>\n",
       "      <td>1</td>\n",
       "      <td>1570</td>\n",
       "    </tr>\n",
       "    <tr>\n",
       "      <th>1</th>\n",
       "      <td>and</td>\n",
       "      <td>2</td>\n",
       "      <td>1487</td>\n",
       "    </tr>\n",
       "    <tr>\n",
       "      <th>2</th>\n",
       "      <td>to</td>\n",
       "      <td>3</td>\n",
       "      <td>1129</td>\n",
       "    </tr>\n",
       "    <tr>\n",
       "      <th>3</th>\n",
       "      <td>i</td>\n",
       "      <td>4</td>\n",
       "      <td>1028</td>\n",
       "    </tr>\n",
       "    <tr>\n",
       "      <th>4</th>\n",
       "      <td>of</td>\n",
       "      <td>5</td>\n",
       "      <td>956</td>\n",
       "    </tr>\n",
       "  </tbody>\n",
       "</table>\n",
       "</div>"
      ],
      "text/plain": [
       "  Word  Rank  Frequency\n",
       "0  the     1       1570\n",
       "1  and     2       1487\n",
       "2   to     3       1129\n",
       "3    i     4       1028\n",
       "4   of     5        956"
      ]
     },
     "execution_count": 33,
     "metadata": {},
     "output_type": "execute_result"
    }
   ],
   "source": [
    "df.head()"
   ]
  },
  {
   "cell_type": "code",
   "execution_count": 34,
   "metadata": {
    "collapsed": false
   },
   "outputs": [
    {
     "data": {
      "text/plain": [
       "0          1\n",
       "1          2\n",
       "2          3\n",
       "3          4\n",
       "4          5\n",
       "5          6\n",
       "6          7\n",
       "7          8\n",
       "8          9\n",
       "9         10\n",
       "10        11\n",
       "11        12\n",
       "12        13\n",
       "13        14\n",
       "14        15\n",
       "15        16\n",
       "16        17\n",
       "17        18\n",
       "18        19\n",
       "19        20\n",
       "20        21\n",
       "21        22\n",
       "22        23\n",
       "23        24\n",
       "24        25\n",
       "25        26\n",
       "26        27\n",
       "27        28\n",
       "28        29\n",
       "29        30\n",
       "        ... \n",
       "9335    9336\n",
       "9336    9337\n",
       "9337    9338\n",
       "9338    9339\n",
       "9339    9340\n",
       "9340    9341\n",
       "9341    9342\n",
       "9342    9343\n",
       "9343    9344\n",
       "9344    9345\n",
       "9345    9346\n",
       "9346    9347\n",
       "9347    9348\n",
       "9348    9349\n",
       "9349    9350\n",
       "9350    9351\n",
       "9351    9352\n",
       "9352    9353\n",
       "9353    9354\n",
       "9354    9355\n",
       "9355    9356\n",
       "9356    9357\n",
       "9357    9358\n",
       "9358    9359\n",
       "9359    9360\n",
       "9360    9361\n",
       "9361    9362\n",
       "9362    9363\n",
       "9363    9364\n",
       "9364    9365\n",
       "Name: Rank, dtype: int64"
      ]
     },
     "execution_count": 34,
     "metadata": {},
     "output_type": "execute_result"
    }
   ],
   "source": [
    "dfRank = df['Rank']\n",
    "dfFreq = df['Frequency']"
   ]
  },
  {
   "cell_type": "code",
   "execution_count": 41,
   "metadata": {
    "collapsed": false
   },
   "outputs": [
    {
     "data": {
      "image/png": "[encoded data removed]",
      "text/plain": [
       "<matplotlib.figure.Figure at 0x14cf57be0>"
      ]
     },
     "metadata": {},
     "output_type": "display_data"
    }
   ],
   "source": [
    "import matplotlib.pyplot as plt\n",
    "\n",
    "x = []\n",
    "y = []\n",
    "\n",
    "x.append(df['Rank'])\n",
    "y.append(df['Frequency'])\n",
    "\n",
    "plt.loglog(df['Rank'],df['Frequency'], label='Loaded from file!')\n",
    "plt.xlabel('x')\n",
    "plt.ylabel('y')\n",
    "plt.legend()\n",
    "plt.show()\n"
   ]
  },
  {
   "cell_type": "markdown",
   "metadata": {},
   "source": [
    "# Conclusion\n",
    "\n",
    "As per the Zipf's law, the frequency of a word in a language text is proportional to its rank. so, if we plot a log-log graph between rank and frequency, we should get a nearly staight line, which can see in the above plot. This concludes Zipf's law."
   ]
  },
  {
   "cell_type": "code",
   "execution_count": null,
   "metadata": {
    "collapsed": true
   },
   "outputs": [],
   "source": []
  }
 ],
 "metadata": {
  "anaconda-cloud": {},
  "kernelspec": {
   "display_name": "Python [conda root]",
   "language": "python",
   "name": "conda-root-py"
  },
  "language_info": {
   "codemirror_mode": {
    "name": "ipython",
    "version": 3
   },
   "file_extension": ".py",
   "mimetype": "text/x-python",
   "name": "python",
   "nbconvert_exporter": "python",
   "pygments_lexer": "ipython3",
   "version": "3.5.2"
  }
 },
 "nbformat": 4,
 "nbformat_minor": 1
}
