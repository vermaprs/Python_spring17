{
 "cells": [
  {
   "cell_type": "markdown",
   "metadata": {},
   "source": [
    "# Question2 Part1"
   ]
  },
  {
   "cell_type": "markdown",
   "metadata": {},
   "source": [
    "There are three categories of json files in this folder. They are identified by the key files in this folder. They are identified by the key called “term” in each of the json file\n",
    "\n",
    "Create a folder structure to read all these files.\n",
    "\n",
    "(You could use these keys to create hierarchy and store json jsonfiles: Country, city, files: categories )"
   ]
  },
  {
   "cell_type": "code",
   "execution_count": 69,
   "metadata": {
    "collapsed": false
   },
   "outputs": [],
   "source": [
    "import json,os\n",
    "hello={'a':1,'b':2}\n",
    "process = '/Users/prashantverma/Documents/Python/Assignment2/Processed Data/'\n",
    "os.makedirs(process)"
   ]
  },
  {
   "cell_type": "code",
   "execution_count": 70,
   "metadata": {
    "collapsed": false
   },
   "outputs": [
    {
     "data": {
      "text/plain": [
       "['/Users/prashantverma/Documents/PythonCopy/Data/1-abercrombie-lane-sydney.json']"
      ]
     },
     "execution_count": 70,
     "metadata": {},
     "output_type": "execute_result"
    }
   ],
   "source": [
    "import glob\n",
    "files = glob.glob('/Users/prashantverma/Documents/PythonCopy/Data/*.json')\n",
    "temp = files[:1]\n",
    "temp"
   ]
  },
  {
   "cell_type": "code",
   "execution_count": 71,
   "metadata": {
    "collapsed": false
   },
   "outputs": [],
   "source": [
    "from json import dumps, loads, JSONEncoder, JSONDecoder\n",
    "import pickle\n",
    "\n",
    "country = []\n",
    "state = []\n",
    "city = []\n",
    "copy = '/Users/prashantverma/Documents/PythonCopy/DataCopy/'\n",
    "\n",
    "for file in temp:\n",
    "    to = file\n",
    "    with open(file) as infile:\n",
    "        data = json.load(infile)\n",
    "        \n",
    "        if data[\"location\"][\"country\"] not in country:\n",
    "            country.append(data[\"location\"][\"country\"])\n",
    "            countryPath = os.path.join(process,data[\"location\"][\"country\"])\n",
    "            os.makedirs(countryPath)\n",
    "            \n",
    "        if data[\"location\"][\"state\"] not in state:\n",
    "            state.append(data[\"location\"][\"state\"])\n",
    "            statePath = os.path.join(countryPath,data[\"location\"][\"state\"])\n",
    "            os.makedirs(statePath)\n",
    "                    \n",
    "        if data[\"location\"][\"city\"] not in city:\n",
    "            city.append(data[\"location\"][\"city\"])\n",
    "            cityPath = os.path.join(statePath,data[\"location\"][\"city\"])\n",
    "            os.makedirs(cityPath)\n",
    "                    \n",
    "            att = os.path.join(cityPath,\"attractions\")\n",
    "            res = os.path.join(cityPath,\"restaurants\")\n",
    "            hotel = os.path.join(cityPath,\"hotels\")\n",
    "            \n",
    "            os.makedirs(att)\n",
    "            os.makedirs(res)\n",
    "            os.makedirs(hotel)\n",
    "            \n",
    "            \n",
    "            \n",
    "        "
   ]
  },
  {
   "cell_type": "code",
   "execution_count": null,
   "metadata": {
    "collapsed": true
   },
   "outputs": [],
   "source": [
    "        if data[\"location\"][\"city\"] in city:\n",
    "            if data[\"term\"] == \"attractions\":\n",
    "                name = data[\"id\"]\n",
    "                os.chdir(copy)\n",
    "                with open(file, 'r') as fromFile:\n",
    "                    os.chdir(res)\n",
    "                    with open(name+'.json','w') as toFile:\n",
    "                        toFile.write(fromFile.read())\n",
    "                \n",
    "            elif data[\"term\"] == \"restaurants\":\n",
    "                name = data[\"id\"]\n",
    "                os.chdir(copy)\n",
    "                with open(file, 'r') as fromFile:\n",
    "                    os.chdir(res)\n",
    "                    with open(name+'.json','w') as toFile:\n",
    "                        toFile.write(fromFile.read())\n",
    "                \n",
    "            elif data[\"term\"] == \"hotels\":\n",
    "                name = data[\"id\"]\n",
    "                os.chdir(copy)\n",
    "                with open(file, 'r') as fromFile:\n",
    "                    os.chdir(res)\n",
    "                    with open(name+'.json','w') as toFile:\n",
    "                        toFile.write(fromFile.read())"
   ]
  },
  {
   "cell_type": "code",
   "execution_count": null,
   "metadata": {
    "collapsed": true
   },
   "outputs": [],
   "source": [
    "        if data[\"location\"][\"country\"] not in country:\n",
    "            country.append(data[\"location\"][\"country\"])\n",
    "            countryPath = os.path.join(process,data[\"location\"][\"country\"])\n",
    "            os.makedirs(countryPath)\n",
    "            \n",
    "        if data[\"location\"][\"state\"] not in state:\n",
    "            state.append(data[\"location\"][\"state\"])\n",
    "            statePath = os.path.join(countryPath,data[\"location\"][\"state\"])\n",
    "            os.makedirs(statePath)\n",
    "                    \n",
    "        if data[\"location\"][\"city\"] not in city:\n",
    "            city.append(data[\"location\"][\"city\"])\n",
    "            cityPath = os.path.join(statePath,data[\"location\"][\"city\"])\n",
    "            os.makedirs(cityPath)\n",
    "                    \n",
    "            att = os.path.join(cityPath,\"attractions\")\n",
    "            res = os.path.join(cityPath,\"restaurants\")\n",
    "            hotel = os.path.join(cityPath,\"hotels\")\n",
    "            \n",
    "            os.makedirs(att)\n",
    "            os.makedirs(res)\n",
    "            os.makedirs(hotel)\n",
    "                               \n",
    "                \n",
    "            if data[\"location\"][\"city\"] in city:\n",
    "            if data[\"term\"] == \"attractions\":\n",
    "                name = data[\"id\"]\n",
    "                os.chdir(copy)\n",
    "                with open(file, 'r') as fromFile:\n",
    "                    os.chdir(att)\n",
    "                    with open(name+'.json','w') as toFile:\n",
    "                        toFile.write(fromFile.read())\n",
    "                \n",
    "            elif data[\"term\"] == \"restaurants\":\n",
    "                name = data[\"id\"]  \n",
    "                os.chdir(res)\n",
    "                with open(file, \"w\") as tofile:\n",
    "                    json.dump(json.loads(infile.read()),tofile)\n",
    "                    \n",
    "\n",
    "                \n",
    "            elif data[\"term\"] == \"hotels\":\n",
    "                name = data[\"id\"]\n",
    "                os.chdir(copy)\n",
    "                with open(file, 'r') as fromFile:\n",
    "                    os.chdir(hotel)\n",
    "                    with open(name+'.json','w') as toFile:\n",
    "                        toFile.write(fromFile.read())\n",
    "                        \n",
    "                        \n",
    "        "
   ]
  },
  {
   "cell_type": "code",
   "execution_count": null,
   "metadata": {
    "collapsed": true
   },
   "outputs": [],
   "source": []
  },
  {
   "cell_type": "code",
   "execution_count": 49,
   "metadata": {
    "collapsed": false
   },
   "outputs": [
    {
     "data": {
      "text/plain": [
       "['1-abercrombie-lane-sydney',\n",
       " '1-chicken-rice-and-seafood-houston',\n",
       " '1-chinese-kitchen-san-jose-2',\n",
       " '10-custom-pizzeria-braddon',\n",
       " '10-downing-street-london',\n",
       " '10-greek-street-london',\n",
       " '100-club-london',\n",
       " '100-de-agave-denver',\n",
       " '100-hoxton-london',\n",
       " '109-adelaide',\n",
       " '11-inch-pizza-melbourne',\n",
       " '111-by-nico-glasgow-2',\n",
       " '127-bar-and-bistro-brisbane',\n",
       " '13-north-grille-phoenix',\n",
       " '13th-note-glasgow',\n",
       " '140-perth-perth',\n",
       " '1428-haight-patio-cafe-and-crepery-san-francisco',\n",
       " '143-photo-booths-san-jose',\n",
       " '163-vietnamese-sandwiches-and-bubble-tea-boston',\n",
       " '1760-san-francisco',\n",
       " '1806-melbourne',\n",
       " '18b-the-las-vegas-art-distirct-las-vegas',\n",
       " '1907-restaurant-perth',\n",
       " '1912-dining-bar-sydney',\n",
       " '1917-american-bistro-detroit',\n",
       " '1st-avenue-apartment-by-stay-alfred-seattle',\n",
       " '1st-class-training-tanglewood-houston-2',\n",
       " '2-amys-neapolitan-pizzeria-washington',\n",
       " '2-day-snow-weekender-at-mt-ruapehu-auckland',\n",
       " '2-yummy-belconnen',\n",
       " '20-spot-san-francisco',\n",
       " '204-north-kitchen-and-cocktails-charlotte',\n",
       " '20s-and-30s-going-out-group-washington',\n",
       " '20th-street-café-denver-2',\n",
       " '21-shanghai-house-new-york-4',\n",
       " '24-hour-fitness-houston-12',\n",
       " '24-hour-fitness-houston-26',\n",
       " '24-hour-fitness-houston-31',\n",
       " '24-hour-fitness-houston-32',\n",
       " '24-hour-fitness-houston-39',\n",
       " '24-hour-fitness-katy',\n",
       " '24-hour-fitness-milpitas',\n",
       " '24-hour-fitness-pasadena-2',\n",
       " '24-hour-fitness-san-jose-17',\n",
       " '24-hour-fitness-san-jose-18',\n",
       " '24-hour-fitness-san-jose-2',\n",
       " '24-hour-fitness-san-jose-3',\n",
       " '24-hour-fitness-san-jose',\n",
       " '24-hour-fitness-seattle-7',\n",
       " '24-hour-fitness-sport-las-vegas',\n",
       " '24grille-detroit',\n",
       " '259-cafe-perth',\n",
       " '26-grains-london',\n",
       " '29-park-novi-3',\n",
       " '2nd-city-new-york',\n",
       " '3-arts-club-cafe-chicago-2',\n",
       " '3-bros-kabab-house-houston',\n",
       " '3-day-midweek-mt-ruapehu-snow-getaway-auckland',\n",
       " '3-greeks-grill-long-island-city-2',\n",
       " '3-little-monkeys-melbourne',\n",
       " '3-wise-monkeys-pub-sydney',\n",
       " '312-elements-headshot-photography-chicago-2',\n",
       " '32-shea-phoenix',\n",
       " '333-mother-bar-london',\n",
       " '360-bar-and-restaurant-sydney',\n",
       " '360-discovery-cruises-auckland',\n",
       " '369-oriental-bistro-houston',\n",
       " '38-espresso-kingston',\n",
       " '39-pizzeria-melbourne-2',\n",
       " '39-steps-o-connor',\n",
       " '3rd-cousin-san-francisco-2',\n",
       " '40-berkeley-boston',\n",
       " '414-hotel-new-york',\n",
       " '45-jermyn-st-london',\n",
       " '4500-washingon-avenue-houston',\n",
       " '463-beacon-street-guest-house-boston-2',\n",
       " '4fourteen-surry-hills',\n",
       " '4th-street-bowl-san-jose',\n",
       " '4u-fitness-st-pete-st-petersburg',\n",
       " '5-and-dime-bagels-melbourne',\n",
       " '5-boroughs-brisbane',\n",
       " '5-caumartin-paris',\n",
       " '5-rabanitos-restaurante-and-taqueria-chicago',\n",
       " '5-spices-house-boston',\n",
       " '5-spot-seattle',\n",
       " '500-degrees-new-york-style-pizzeria-charlotte-2',\n",
       " '505-surry-hills',\n",
       " '50s-diner-omelet-house-las-vegas',\n",
       " '5280-burger-bar-denver',\n",
       " '5280-sliders-denver',\n",
       " '580-bench-melbourne-2',\n",
       " '5church-charlotte-2',\n",
       " '62-rokujuni-sydney',\n",
       " '678-korean-bbq-sydney',\n",
       " '6th-avenue-eats-seattle',\n",
       " '7-greens-detroit-salad-detroit',\n",
       " '7-leguas-mexican-grille-denver-3',\n",
       " '7-leguas-mexican-grille-denver-4',\n",
       " '7-parnassiens-paris-2',\n",
       " '70-park-avenue-hotel-new-york']"
      ]
     },
     "execution_count": 49,
     "metadata": {},
     "output_type": "execute_result"
    }
   ],
   "source": [
    "check = []\n",
    "for file in files:\n",
    "    with open(file) as outfile:\n",
    "        data = json.load(outfile)\n",
    "        check.append(data[\"id\"])\n",
    "        \n",
    "check[:100]"
   ]
  },
  {
   "cell_type": "code",
   "execution_count": null,
   "metadata": {
    "collapsed": true
   },
   "outputs": [],
   "source": [
    "with open(path+'\\\\'+'hello.json','w') as outfile:\n",
    "    json.dump(hello,outfile)"
   ]
  }
 ],
 "metadata": {
  "anaconda-cloud": {},
  "kernelspec": {
   "display_name": "Python [conda root]",
   "language": "python",
   "name": "conda-root-py"
  },
  "language_info": {
   "codemirror_mode": {
    "name": "ipython",
    "version": 3
   },
   "file_extension": ".py",
   "mimetype": "text/x-python",
   "name": "python",
   "nbconvert_exporter": "python",
   "pygments_lexer": "ipython3",
   "version": "3.5.2"
  }
 },
 "nbformat": 4,
 "nbformat_minor": 1
}
