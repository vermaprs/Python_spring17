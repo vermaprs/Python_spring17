{
 "cells": [
  {
   "cell_type": "markdown",
   "metadata": {},
   "source": [
    "# Question2 Part1"
   ]
  },
  {
   "cell_type": "markdown",
   "metadata": {},
   "source": [
    "1. There are three categories of json files in this folder. They are identified by the key files in this folder. They are identified by the key called “term” in each of the json file\n",
    "2. Create a folder structure to read all these files.\n",
    "3. (You could use these keys to create hierarchy and store json jsonfiles: Country, city, files: categories )"
   ]
  },
  {
   "cell_type": "code",
   "execution_count": 7,
   "metadata": {
    "collapsed": false
   },
   "outputs": [],
   "source": [
    "import json,os\n",
    "hello={'a':1,'b':2}\n",
    "process = '/Users/prashantverma/Documents/Python/Assignment2/Processed Data/'\n",
    "os.makedirs(process)"
   ]
  },
  {
   "cell_type": "code",
   "execution_count": 8,
   "metadata": {
    "collapsed": false
   },
   "outputs": [
    {
     "data": {
      "text/plain": [
       "['/Users/prashantverma/Documents/PythonCopy/Data/1-abercrombie-lane-sydney.json',\n",
       " '/Users/prashantverma/Documents/PythonCopy/Data/1-chicken-rice-and-seafood-houston.json',\n",
       " '/Users/prashantverma/Documents/PythonCopy/Data/1-chinese-kitchen-san-jose-2.json',\n",
       " '/Users/prashantverma/Documents/PythonCopy/Data/10-custom-pizzeria-braddon.json',\n",
       " '/Users/prashantverma/Documents/PythonCopy/Data/10-downing-street-london.json']"
      ]
     },
     "execution_count": 8,
     "metadata": {},
     "output_type": "execute_result"
    }
   ],
   "source": [
    "import glob\n",
    "files = glob.glob('/Users/prashantverma/Documents/PythonCopy/Data/*.json')\n",
    "temp = files[:]\n",
    "temp[:5]"
   ]
  },
  {
   "cell_type": "code",
   "execution_count": null,
   "metadata": {
    "collapsed": false
   },
   "outputs": [],
   "source": [
    "from shutil import copyfile\n",
    "\n",
    "country = []\n",
    "state = []\n",
    "city = []\n",
    "copy = '/Users/prashantverma/Documents/PythonCopy/DataCopy/'\n",
    "\n",
    "for file in files:\n",
    "    with open(file) as infile:\n",
    "        data = json.load(infile)\n",
    "        \n",
    "        country = data[\"location\"][\"country\"]\n",
    "        state = data[\"location\"][\"state\"]\n",
    "        city = data[\"location\"][\"city\"]\n",
    "        \n",
    "        loc = country+'/'+state+'/'+city\n",
    "        cityPath = os.path.join(process,loc)\n",
    "        \n",
    "        if os.path.exists(cityPath):\n",
    "                \n",
    "            if data[\"term\"] == \"attractions\":\n",
    "                name = data['id']\n",
    "                copyfile(copy+name+'.json',att+'/'+name+'.json')\n",
    "                \n",
    "            elif data[\"term\"] == \"restaurants\":\n",
    "                name = data['id']\n",
    "                copyfile(copy+name+'.json',res+'/'+name+'.json')\n",
    "                \n",
    "            elif data[\"term\"] == \"hotels\":\n",
    "                name = data['id']\n",
    "                copyfile(copy+name+'.json',hotel+'/'+name+'.json')\n",
    "\n",
    "                \n",
    "        else:\n",
    "            os.makedirs(cityPath)\n",
    "            \n",
    "            att = os.path.join(cityPath,\"attractions\")\n",
    "            res = os.path.join(cityPath,\"restaurants\")\n",
    "            hotel = os.path.join(cityPath,\"hotels\")\n",
    "            \n",
    "            os.makedirs(att)\n",
    "            os.makedirs(res)\n",
    "            os.makedirs(hotel)\n",
    "            \n",
    "            \n",
    "            if data[\"term\"] == \"attractions\":\n",
    "                name = data['id']\n",
    "                copyfile(copy+name+'.json',att+'/'+name+'.json')\n",
    "                \n",
    "            elif data[\"term\"] == \"restaurants\":\n",
    "                name = data['id']\n",
    "                copyfile(copy+name+'.json',res+'/'+name+'.json')\n",
    "                \n",
    "            elif data[\"term\"] == \"hotels\":\n",
    "                name = data['id']\n",
    "                copyfile(copy+name+'.json',hotel+'/'+name+'.json')\n",
    "        \n",
    "        \n",
    "                "
   ]
  },
  {
   "cell_type": "code",
   "execution_count": null,
   "metadata": {
    "collapsed": true
   },
   "outputs": [],
   "source": []
  }
 ],
 "metadata": {
  "anaconda-cloud": {},
  "kernelspec": {
   "display_name": "Python [conda root]",
   "language": "python",
   "name": "conda-root-py"
  },
  "language_info": {
   "codemirror_mode": {
    "name": "ipython",
    "version": 3
   },
   "file_extension": ".py",
   "mimetype": "text/x-python",
   "name": "python",
   "nbconvert_exporter": "python",
   "pygments_lexer": "ipython3",
   "version": "3.5.2"
  }
 },
 "nbformat": 4,
 "nbformat_minor": 1
}
