{
 "cells": [
  {
   "cell_type": "markdown",
   "metadata": {},
   "source": [
    "# Question2 Part2"
   ]
  },
  {
   "cell_type": "markdown",
   "metadata": {},
   "source": [
    "1. Read all the json files in the folder called Data.\n",
    "2. Read only the json files which contain the key called “restaurants” files\n",
    "3. Each (or most of the json files) contain a key called “open” which contains the details of the operation (timings). For each of the operation (timings) restaurants. For each json file, read the timings of file, read the timings of restaurants.\n",
    "4. Data of the operation timings restaurants is present for each day week. I Data of the operation timings restaurants is present for each day week. I want you to extract each of this data and write it in an excel sheet.\n",
    "5. Example - For a particular restaurant named “The Coffee Grounds”, the excel sheet should look For a particular restaurant named “The Coffee Grounds”, the excel sheet should look For a particular restaurant named “The Coffee Grounds”, the excel sheet should look For a particular restaurant named “The Coffee Grounds”, the excel sheet should look For a particular restaurant named “The Coffee Grounds”, the excel sheet should look like this:"
   ]
  },
  {
   "cell_type": "code",
   "execution_count": null,
   "metadata": {
    "collapsed": true
   },
   "outputs": [],
   "source": []
  }
 ],
 "metadata": {
  "anaconda-cloud": {},
  "kernelspec": {
   "display_name": "Python [conda root]",
   "language": "python",
   "name": "conda-root-py"
  },
  "language_info": {
   "codemirror_mode": {
    "name": "ipython",
    "version": 3
   },
   "file_extension": ".py",
   "mimetype": "text/x-python",
   "name": "python",
   "nbconvert_exporter": "python",
   "pygments_lexer": "ipython3",
   "version": "3.5.2"
  }
 },
 "nbformat": 4,
 "nbformat_minor": 1
}
